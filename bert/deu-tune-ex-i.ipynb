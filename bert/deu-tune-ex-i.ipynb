{
 "cells": [
  {
   "cell_type": "code",
   "execution_count": 5,
   "metadata": {},
   "outputs": [],
   "source": [
    "%reload_ext autoreload\n",
    "%autoreload 2\n",
    "%matplotlib inline"
   ]
  },
  {
   "cell_type": "code",
   "execution_count": null,
   "metadata": {},
   "outputs": [],
   "source": []
  },
  {
   "cell_type": "code",
   "execution_count": 6,
   "metadata": {},
   "outputs": [
    {
     "name": "stdout",
     "output_type": "stream",
     "text": [
      "/home/abaumann/anaconda3/envs/cuda/bin/jupyter\r\n"
     ]
    }
   ],
   "source": [
    "! which jupyter"
   ]
  },
  {
   "cell_type": "code",
   "execution_count": 7,
   "metadata": {},
   "outputs": [
    {
     "name": "stdout",
     "output_type": "stream",
     "text": [
      "Better speed can be achieved with apex installed from https://www.github.com/nvidia/apex.\n"
     ]
    }
   ],
   "source": [
    "import logging\n",
    "import random\n",
    "from functools import partial\n",
    "from pathlib import Path\n",
    "import pandas as pd\n",
    "import numpy as np\n",
    "\n",
    "import fire\n",
    "import torch\n",
    "from fastai.basic_data import DataBunch\n",
    "from fastai.basic_train import Learner\n",
    "from fastai.metrics import fbeta\n",
    "from fastai.train import to_fp16\n",
    "from learner import (OneHotCallBack, conll_f1, create_fp16_cb,\n",
    "                     ner_loss_func, Conll_F1)\n",
    "from ner_data import NerDataset, pad\n",
    "from optimizer import BertAdam\n",
    "from pytorch_pretrained_bert import BertForTokenClassification\n",
    "from torch.utils.data import DataLoader\n",
    "from fastai.torch_core import flatten_model"
   ]
  },
  {
   "cell_type": "markdown",
   "metadata": {},
   "source": [
    "# Initialisation\n",
    "\n",
    "Define Values for the Run"
   ]
  },
  {
   "cell_type": "code",
   "execution_count": 8,
   "metadata": {},
   "outputs": [],
   "source": [
    "lang='deu'\n",
    "ds_size=None\n",
    "name = 'jpdi'\n",
    "datapath = 'data/conll-2003-I/'\n",
    "csvn = 'logs/eng-tune'+name+'.csv'\n",
    "pretrain=False\n",
    "pretrained_lm = 'pretrain/pytorch_fastai_model_bert-base-multilingual-cased_10.bin'"
   ]
  },
  {
   "cell_type": "code",
   "execution_count": 9,
   "metadata": {},
   "outputs": [],
   "source": [
    "log_dir:str='logs'\n",
    "batch_size:int=16\n",
    "lr:float=5e-5\n",
    "epochs:int=1\n",
    "trainset:str=datapath\n",
    "devset:str=datapath\n",
    "testset:str=datapath\n",
    "max_seq_len:int=128\n",
    "do_lower_case:bool=False\n",
    "warmup_proportion:float=0.1\n",
    "data_bunch_path:str='data/conll-2003/db'"
   ]
  },
  {
   "cell_type": "code",
   "execution_count": 10,
   "metadata": {},
   "outputs": [],
   "source": [
    "bert_model = 'bert-base-cased' if lang=='eng' else 'bert-base-multilingual-cased'"
   ]
  },
  {
   "cell_type": "markdown",
   "metadata": {},
   "source": [
    "## Dataset\n",
    "Load the dataset and define a databunch"
   ]
  },
  {
   "cell_type": "code",
   "execution_count": 11,
   "metadata": {},
   "outputs": [],
   "source": [
    "trainset += lang + '/train.txt'\n",
    "devset += lang + '/dev.txt'\n",
    "testset += lang + '/test.txt'"
   ]
  },
  {
   "cell_type": "code",
   "execution_count": 13,
   "metadata": {},
   "outputs": [
    {
     "name": "stdout",
     "output_type": "stream",
     "text": [
      "\n",
      "data/conll-2003/deu/train.txt\n",
      "lines 12705 sents 12152\tstyle: x=s y=s\n",
      "\n",
      "data/conll-2003/deu/dev.txt\n",
      "lines 3068 sents 2867\tstyle: x=s y=s\n",
      "\n",
      "data/conll-2003/deu/test.txt\n",
      "lines 3160 sents 3005\tstyle: x=s y=s\n"
     ]
    }
   ],
   "source": [
    "train_dl = DataLoader(\n",
    "    dataset=NerDataset(trainset, bert_model, max_seq_len=max_seq_len, ds_size=ds_size),\n",
    "    batch_size=batch_size,\n",
    "    shuffle=True,\n",
    "    collate_fn=pad\n",
    ")\n",
    "\n",
    "dev_dl = DataLoader(\n",
    "    dataset=NerDataset(devset, bert_model, max_seq_len=max_seq_len, ds_size=ds_size),\n",
    "    batch_size=batch_size,\n",
    "    shuffle=False,\n",
    "    collate_fn=pad\n",
    ")\n",
    "\n",
    "test_dl = DataLoader(\n",
    "    dataset=NerDataset(testset, bert_model, max_seq_len=max_seq_len, ds_size=ds_size),\n",
    "    batch_size=batch_size,\n",
    "    shuffle=False,\n",
    "    collate_fn=pad\n",
    ")\n",
    "\n",
    "data = DataBunch(\n",
    "    train_dl= train_dl,\n",
    "    valid_dl= dev_dl,\n",
    "    test_dl = test_dl,\n",
    "    collate_fn=pad,\n",
    "    path = Path(data_bunch_path)\n",
    ")"
   ]
  },
  {
   "cell_type": "markdown",
   "metadata": {},
   "source": [
    "## Model & Learner\n",
    "define BERT model\n",
    "define Learner object"
   ]
  },
  {
   "cell_type": "code",
   "execution_count": 15,
   "metadata": {},
   "outputs": [],
   "source": [
    "num_layers = 15"
   ]
  },
  {
   "cell_type": "code",
   "execution_count": 16,
   "metadata": {},
   "outputs": [],
   "source": [
    "def bert_layer_list(model):\n",
    "    ms = torch.nn.ModuleList()\n",
    "\n",
    "    flm = flatten_model(model)\n",
    "    # embedding = [0:5] layer\n",
    "    ms.append(torch.nn.ModuleList(flm[0:5]))\n",
    "    # encoder (12 layers) = [5:16] [16:27] ... [126:136]\n",
    "    for i in range(5, 137, 11):\n",
    "        ms.append(torch.nn.ModuleList(flm[i: i+11]))\n",
    "    # pooling layer = [137:139]\n",
    "    ms.append(torch.nn.ModuleList(flm[-4:-2]))\n",
    "    # head = [-2:]\n",
    "    ms.append(torch.nn.ModuleList(flm[-2:]))\n",
    "    return ms"
   ]
  },
  {
   "cell_type": "code",
   "execution_count": 17,
   "metadata": {},
   "outputs": [],
   "source": [
    "\n",
    "model = BertForTokenClassification.from_pretrained(bert_model, num_labels=10, cache_dir='bertm')\n",
    "if pretrain:\n",
    "    model.bert.load_state_dict(torch.load(pretrained_lm))\n",
    "\n",
    "model = torch.nn.DataParallel(model)\n",
    "optim = BertAdam\n",
    "loss_fun = ner_loss_func"
   ]
  },
  {
   "cell_type": "code",
   "execution_count": 18,
   "metadata": {},
   "outputs": [],
   "source": [
    "metrics = [Conll_F1()]"
   ]
  },
  {
   "cell_type": "code",
   "execution_count": 19,
   "metadata": {},
   "outputs": [],
   "source": [
    "learn = Learner(data, model, optim,\n",
    "                    loss_func=loss_fun,\n",
    "                    metrics=metrics,\n",
    "                    true_wd=False,\n",
    "                    layer_groups= bert_layer_list(model),\n",
    "                    path='learn-deu',\n",
    "                    )"
   ]
  },
  {
   "cell_type": "code",
   "execution_count": null,
   "metadata": {},
   "outputs": [],
   "source": []
  },
  {
   "cell_type": "code",
   "execution_count": 20,
   "metadata": {},
   "outputs": [
    {
     "data": {
      "text/plain": [
       "16"
      ]
     },
     "execution_count": 20,
     "metadata": {},
     "output_type": "execute_result"
    }
   ],
   "source": [
    "batch_size"
   ]
  },
  {
   "cell_type": "code",
   "execution_count": 21,
   "metadata": {},
   "outputs": [
    {
     "data": {
      "text/plain": [
       "'deu'"
      ]
     },
     "execution_count": 21,
     "metadata": {},
     "output_type": "execute_result"
    }
   ],
   "source": [
    "lang"
   ]
  },
  {
   "cell_type": "code",
   "execution_count": null,
   "metadata": {},
   "outputs": [],
   "source": []
  },
  {
   "cell_type": "code",
   "execution_count": null,
   "metadata": {},
   "outputs": [],
   "source": []
  },
  {
   "cell_type": "code",
   "execution_count": 22,
   "metadata": {},
   "outputs": [],
   "source": [
    "def test_lrs(stage, all_lrs, runs=1):\n",
    "    res = []\n",
    "    for i,lrs in enumerate(all_lrs):\n",
    "        lrs,lrm = lrs\n",
    "        print(i, lrm, lrs)\n",
    "        i_res = {'lrs': lrs, 'lrm':lrm, 'f1s':[], 'vals':[], 'train':[]}\n",
    "        for _ in range(runs):\n",
    "            learn.load(stage)\n",
    "            learn.fit_one_cycle(1, lrs, moms=(0.8,0.7))\n",
    "            \n",
    "            i_res['f1s'].append(learn.recorder.metrics[0][0])\n",
    "            i_res['vals'].append(learn.recorder.val_losses[0])\n",
    "            i_res['train'].append(learn.recorder.losses)\n",
    "        i_res['val'] = sum(i_res['vals'])/runs\n",
    "        i_res['f1'] = sum(i_res['f1s'])/runs\n",
    "        res.append(i_res)\n",
    "    return res"
   ]
  },
  {
   "cell_type": "code",
   "execution_count": 21,
   "metadata": {},
   "outputs": [],
   "source": [
    "chtw = ([2e-5]*14+[3e-4], 0)\n",
    "chtw2 = ([2e-5]*2 +[3e-5]*3+[1e-4]*3+[3e-4]*3+[8e-4]*3 +[8e-3], 0)"
   ]
  },
  {
   "cell_type": "code",
   "execution_count": 22,
   "metadata": {
    "scrolled": false
   },
   "outputs": [
    {
     "data": {
      "text/html": [],
      "text/plain": [
       "<IPython.core.display.HTML object>"
      ]
     },
     "metadata": {},
     "output_type": "display_data"
    },
    {
     "name": "stdout",
     "output_type": "stream",
     "text": [
      "LR Finder is complete, type {learner_name}.recorder.plot() to see the graph.\n"
     ]
    },
    {
     "data": {
      "image/png": "[encoded data removed]",
      "text/plain": [
       "<Figure size 432x288 with 1 Axes>"
      ]
     },
     "metadata": {
      "needs_background": "light"
     },
     "output_type": "display_data"
    }
   ],
   "source": [
    "learn.freeze()\n",
    "learn.save(name+'x')\n",
    "learn.lr_find()\n",
    "learn.recorder.plot()"
   ]
  },
  {
   "cell_type": "code",
   "execution_count": 23,
   "metadata": {
    "scrolled": false
   },
   "outputs": [
    {
     "name": "stdout",
     "output_type": "stream",
     "text": [
      "0 1 0.01\n"
     ]
    },
    {
     "data": {
      "text/html": [
       "Total time: 04:45 <p><table border=\"1\" class=\"dataframe\">\n",
       "  <thead>\n",
       "    <tr style=\"text-align: left;\">\n",
       "      <th>epoch</th>\n",
       "      <th>train_loss</th>\n",
       "      <th>valid_loss</th>\n",
       "      <th>Total F1</th>\n",
       "      <th>time</th>\n",
       "    </tr>\n",
       "  </thead>\n",
       "  <tbody>\n",
       "    <tr>\n",
       "      <td>0</td>\n",
       "      <td>0.172080</td>\n",
       "      <td>0.157025</td>\n",
       "      <td>0.738771</td>\n",
       "      <td>04:45</td>\n",
       "    </tr>\n",
       "  </tbody>\n",
       "</table>"
      ],
      "text/plain": [
       "<IPython.core.display.HTML object>"
      ]
     },
     "metadata": {},
     "output_type": "display_data"
    },
    {
     "name": "stdout",
     "output_type": "stream",
     "text": [
      "1 1 0.05\n"
     ]
    },
    {
     "data": {
      "text/html": [
       "Total time: 04:45 <p><table border=\"1\" class=\"dataframe\">\n",
       "  <thead>\n",
       "    <tr style=\"text-align: left;\">\n",
       "      <th>epoch</th>\n",
       "      <th>train_loss</th>\n",
       "      <th>valid_loss</th>\n",
       "      <th>Total F1</th>\n",
       "      <th>time</th>\n",
       "    </tr>\n",
       "  </thead>\n",
       "  <tbody>\n",
       "    <tr>\n",
       "      <td>0</td>\n",
       "      <td>0.387418</td>\n",
       "      <td>0.321667</td>\n",
       "      <td>0.733258</td>\n",
       "      <td>04:45</td>\n",
       "    </tr>\n",
       "  </tbody>\n",
       "</table>"
      ],
      "text/plain": [
       "<IPython.core.display.HTML object>"
      ]
     },
     "metadata": {},
     "output_type": "display_data"
    },
    {
     "name": "stdout",
     "output_type": "stream",
     "text": [
      "2 1 0.008\n"
     ]
    },
    {
     "data": {
      "text/html": [
       "Total time: 04:45 <p><table border=\"1\" class=\"dataframe\">\n",
       "  <thead>\n",
       "    <tr style=\"text-align: left;\">\n",
       "      <th>epoch</th>\n",
       "      <th>train_loss</th>\n",
       "      <th>valid_loss</th>\n",
       "      <th>Total F1</th>\n",
       "      <th>time</th>\n",
       "    </tr>\n",
       "  </thead>\n",
       "  <tbody>\n",
       "    <tr>\n",
       "      <td>0</td>\n",
       "      <td>0.174680</td>\n",
       "      <td>0.149283</td>\n",
       "      <td>0.748962</td>\n",
       "      <td>04:45</td>\n",
       "    </tr>\n",
       "  </tbody>\n",
       "</table>"
      ],
      "text/plain": [
       "<IPython.core.display.HTML object>"
      ]
     },
     "metadata": {},
     "output_type": "display_data"
    },
    {
     "name": "stdout",
     "output_type": "stream",
     "text": [
      "3 1 0.005\n"
     ]
    },
    {
     "data": {
      "text/html": [
       "Total time: 04:45 <p><table border=\"1\" class=\"dataframe\">\n",
       "  <thead>\n",
       "    <tr style=\"text-align: left;\">\n",
       "      <th>epoch</th>\n",
       "      <th>train_loss</th>\n",
       "      <th>valid_loss</th>\n",
       "      <th>Total F1</th>\n",
       "      <th>time</th>\n",
       "    </tr>\n",
       "  </thead>\n",
       "  <tbody>\n",
       "    <tr>\n",
       "      <td>0</td>\n",
       "      <td>0.170635</td>\n",
       "      <td>0.148952</td>\n",
       "      <td>0.736877</td>\n",
       "      <td>04:45</td>\n",
       "    </tr>\n",
       "  </tbody>\n",
       "</table>"
      ],
      "text/plain": [
       "<IPython.core.display.HTML object>"
      ]
     },
     "metadata": {},
     "output_type": "display_data"
    }
   ],
   "source": [
    "lrs = [\n",
    "    1e-02, 5e-2, 8e-3, 5e-3,\n",
    "]\n",
    "lrs = [(i, 1) for i in lrs]\n",
    "stage1 = test_lrs('x', lrs, runs=1)"
   ]
  },
  {
   "cell_type": "code",
   "execution_count": 24,
   "metadata": {
    "scrolled": true
   },
   "outputs": [
    {
     "data": {
      "text/html": [
       "<div>\n",
       "<style scoped>\n",
       "    .dataframe tbody tr th:only-of-type {\n",
       "        vertical-align: middle;\n",
       "    }\n",
       "\n",
       "    .dataframe tbody tr th {\n",
       "        vertical-align: top;\n",
       "    }\n",
       "\n",
       "    .dataframe thead th {\n",
       "        text-align: right;\n",
       "    }\n",
       "</style>\n",
       "<table border=\"1\" class=\"dataframe\">\n",
       "  <thead>\n",
       "    <tr style=\"text-align: right;\">\n",
       "      <th></th>\n",
       "      <th>f1</th>\n",
       "      <th>f1s</th>\n",
       "      <th>lrm</th>\n",
       "      <th>lrs</th>\n",
       "      <th>train</th>\n",
       "      <th>val</th>\n",
       "      <th>vals</th>\n",
       "    </tr>\n",
       "  </thead>\n",
       "  <tbody>\n",
       "    <tr>\n",
       "      <th>2</th>\n",
       "      <td>0.748962</td>\n",
       "      <td>[0.7489618104299826]</td>\n",
       "      <td>1</td>\n",
       "      <td>0.008</td>\n",
       "      <td>[[tensor(2.3993), tensor(2.1746), tensor(1.965...</td>\n",
       "      <td>0.149283</td>\n",
       "      <td>[0.14928262]</td>\n",
       "    </tr>\n",
       "    <tr>\n",
       "      <th>0</th>\n",
       "      <td>0.738771</td>\n",
       "      <td>[0.738771168610339]</td>\n",
       "      <td>1</td>\n",
       "      <td>0.010</td>\n",
       "      <td>[[tensor(2.3470), tensor(2.1388), tensor(1.885...</td>\n",
       "      <td>0.157025</td>\n",
       "      <td>[0.15702549]</td>\n",
       "    </tr>\n",
       "    <tr>\n",
       "      <th>3</th>\n",
       "      <td>0.736877</td>\n",
       "      <td>[0.7368768021405584]</td>\n",
       "      <td>1</td>\n",
       "      <td>0.005</td>\n",
       "      <td>[[tensor(2.4337), tensor(2.2747), tensor(2.110...</td>\n",
       "      <td>0.148952</td>\n",
       "      <td>[0.14895162]</td>\n",
       "    </tr>\n",
       "    <tr>\n",
       "      <th>1</th>\n",
       "      <td>0.733258</td>\n",
       "      <td>[0.7332576612502248]</td>\n",
       "      <td>1</td>\n",
       "      <td>0.050</td>\n",
       "      <td>[[tensor(2.3987), tensor(1.6597), tensor(1.421...</td>\n",
       "      <td>0.321667</td>\n",
       "      <td>[0.32166737]</td>\n",
       "    </tr>\n",
       "  </tbody>\n",
       "</table>\n",
       "</div>"
      ],
      "text/plain": [
       "         f1                   f1s  lrm    lrs  \\\n",
       "2  0.748962  [0.7489618104299826]    1  0.008   \n",
       "0  0.738771   [0.738771168610339]    1  0.010   \n",
       "3  0.736877  [0.7368768021405584]    1  0.005   \n",
       "1  0.733258  [0.7332576612502248]    1  0.050   \n",
       "\n",
       "                                               train       val          vals  \n",
       "2  [[tensor(2.3993), tensor(2.1746), tensor(1.965...  0.149283  [0.14928262]  \n",
       "0  [[tensor(2.3470), tensor(2.1388), tensor(1.885...  0.157025  [0.15702549]  \n",
       "3  [[tensor(2.4337), tensor(2.2747), tensor(2.110...  0.148952  [0.14895162]  \n",
       "1  [[tensor(2.3987), tensor(1.6597), tensor(1.421...  0.321667  [0.32166737]  "
      ]
     },
     "execution_count": 24,
     "metadata": {},
     "output_type": "execute_result"
    }
   ],
   "source": [
    "df = pd.DataFrame(stage1).sort_values(by=['f1', 'val'],ascending=[False, True])\n",
    "df.to_csv(csvn, mode='a')\n",
    "df"
   ]
  },
  {
   "cell_type": "code",
   "execution_count": 21,
   "metadata": {},
   "outputs": [
    {
     "data": {
      "text/html": [
       "Total time: 03:27 <p><table border=\"1\" class=\"dataframe\">\n",
       "  <thead>\n",
       "    <tr style=\"text-align: left;\">\n",
       "      <th>epoch</th>\n",
       "      <th>train_loss</th>\n",
       "      <th>valid_loss</th>\n",
       "      <th>Total F1</th>\n",
       "      <th>time</th>\n",
       "    </tr>\n",
       "  </thead>\n",
       "  <tbody>\n",
       "    <tr>\n",
       "      <td>0</td>\n",
       "      <td>0.125057</td>\n",
       "      <td>0.152426</td>\n",
       "      <td>0.739395</td>\n",
       "      <td>03:27</td>\n",
       "    </tr>\n",
       "  </tbody>\n",
       "</table>"
      ],
      "text/plain": [
       "<IPython.core.display.HTML object>"
      ]
     },
     "metadata": {},
     "output_type": "display_data"
    }
   ],
   "source": [
    "learn.load(name+'x')\n",
    "lr0 =  df.iloc[0]['lrs']\n",
    "learn.fit_one_cycle(1, df.iloc[0]['lrs'], moms=(0.8,0.7))"
   ]
  },
  {
   "cell_type": "code",
   "execution_count": 22,
   "metadata": {},
   "outputs": [
    {
     "data": {
      "text/html": [],
      "text/plain": [
       "<IPython.core.display.HTML object>"
      ]
     },
     "metadata": {},
     "output_type": "display_data"
    },
    {
     "name": "stdout",
     "output_type": "stream",
     "text": [
      "LR Finder is complete, type {learner_name}.recorder.plot() to see the graph.\n"
     ]
    },
    {
     "data": {
      "image/png": "[encoded data removed]",
      "text/plain": [
       "<Figure size 432x288 with 1 Axes>"
      ]
     },
     "metadata": {
      "needs_background": "light"
     },
     "output_type": "display_data"
    }
   ],
   "source": [
    "learn.freeze_to(-3)\n",
    "learn.save(name+'x3')\n",
    "learn.lr_find()\n",
    "learn.recorder.plot()"
   ]
  },
  {
   "cell_type": "code",
   "execution_count": 23,
   "metadata": {},
   "outputs": [
    {
     "name": "stdout",
     "output_type": "stream",
     "text": [
      "0 [5.962107e-10 1.659641e-09 4.619855e-09 1.286005e-08 3.579785e-08 9.964862e-08 2.773867e-07 7.721468e-07 2.149385e-06\n",
      " 5.983131e-06 1.665493e-05 4.636146e-05 1.290540e-04 3.592408e-04 1.000000e-03] 2.6\n"
     ]
    },
    {
     "data": {
      "text/html": [
       "Total time: 03:39 <p><table border=\"1\" class=\"dataframe\">\n",
       "  <thead>\n",
       "    <tr style=\"text-align: left;\">\n",
       "      <th>epoch</th>\n",
       "      <th>train_loss</th>\n",
       "      <th>valid_loss</th>\n",
       "      <th>Total F1</th>\n",
       "      <th>time</th>\n",
       "    </tr>\n",
       "  </thead>\n",
       "  <tbody>\n",
       "    <tr>\n",
       "      <td>0</td>\n",
       "      <td>0.094890</td>\n",
       "      <td>0.120441</td>\n",
       "      <td>0.798575</td>\n",
       "      <td>03:39</td>\n",
       "    </tr>\n",
       "  </tbody>\n",
       "</table>"
      ],
      "text/plain": [
       "<IPython.core.display.HTML object>"
      ]
     },
     "metadata": {},
     "output_type": "display_data"
    },
    {
     "data": {
      "text/html": [
       "Total time: 03:39 <p><table border=\"1\" class=\"dataframe\">\n",
       "  <thead>\n",
       "    <tr style=\"text-align: left;\">\n",
       "      <th>epoch</th>\n",
       "      <th>train_loss</th>\n",
       "      <th>valid_loss</th>\n",
       "      <th>Total F1</th>\n",
       "      <th>time</th>\n",
       "    </tr>\n",
       "  </thead>\n",
       "  <tbody>\n",
       "    <tr>\n",
       "      <td>0</td>\n",
       "      <td>0.095008</td>\n",
       "      <td>0.116394</td>\n",
       "      <td>0.809201</td>\n",
       "      <td>03:39</td>\n",
       "    </tr>\n",
       "  </tbody>\n",
       "</table>"
      ],
      "text/plain": [
       "<IPython.core.display.HTML object>"
      ]
     },
     "metadata": {},
     "output_type": "display_data"
    },
    {
     "name": "stdout",
     "output_type": "stream",
     "text": [
      "1 [1.192421e-09 3.319281e-09 9.239711e-09 2.572010e-08 7.159571e-08 1.992972e-07 5.547733e-07 1.544294e-06 4.298770e-06\n",
      " 1.196626e-05 3.330986e-05 9.272292e-05 2.581080e-04 7.184817e-04 2.000000e-03] 2.6\n"
     ]
    },
    {
     "data": {
      "text/html": [
       "Total time: 03:39 <p><table border=\"1\" class=\"dataframe\">\n",
       "  <thead>\n",
       "    <tr style=\"text-align: left;\">\n",
       "      <th>epoch</th>\n",
       "      <th>train_loss</th>\n",
       "      <th>valid_loss</th>\n",
       "      <th>Total F1</th>\n",
       "      <th>time</th>\n",
       "    </tr>\n",
       "  </thead>\n",
       "  <tbody>\n",
       "    <tr>\n",
       "      <td>0</td>\n",
       "      <td>0.093602</td>\n",
       "      <td>0.117095</td>\n",
       "      <td>0.804610</td>\n",
       "      <td>03:39</td>\n",
       "    </tr>\n",
       "  </tbody>\n",
       "</table>"
      ],
      "text/plain": [
       "<IPython.core.display.HTML object>"
      ]
     },
     "metadata": {},
     "output_type": "display_data"
    },
    {
     "data": {
      "text/html": [
       "Total time: 03:39 <p><table border=\"1\" class=\"dataframe\">\n",
       "  <thead>\n",
       "    <tr style=\"text-align: left;\">\n",
       "      <th>epoch</th>\n",
       "      <th>train_loss</th>\n",
       "      <th>valid_loss</th>\n",
       "      <th>Total F1</th>\n",
       "      <th>time</th>\n",
       "    </tr>\n",
       "  </thead>\n",
       "  <tbody>\n",
       "    <tr>\n",
       "      <td>0</td>\n",
       "      <td>0.096187</td>\n",
       "      <td>0.114914</td>\n",
       "      <td>0.813605</td>\n",
       "      <td>03:39</td>\n",
       "    </tr>\n",
       "  </tbody>\n",
       "</table>"
      ],
      "text/plain": [
       "<IPython.core.display.HTML object>"
      ]
     },
     "metadata": {},
     "output_type": "display_data"
    },
    {
     "name": "stdout",
     "output_type": "stream",
     "text": [
      "2 [5.962107e-11 1.659641e-10 4.619855e-10 1.286005e-09 3.579785e-09 9.964862e-09 2.773867e-08 7.721468e-08 2.149385e-07\n",
      " 5.983131e-07 1.665493e-06 4.636146e-06 1.290540e-05 3.592408e-05 1.000000e-04] 2.6\n"
     ]
    },
    {
     "data": {
      "text/html": [
       "Total time: 03:39 <p><table border=\"1\" class=\"dataframe\">\n",
       "  <thead>\n",
       "    <tr style=\"text-align: left;\">\n",
       "      <th>epoch</th>\n",
       "      <th>train_loss</th>\n",
       "      <th>valid_loss</th>\n",
       "      <th>Total F1</th>\n",
       "      <th>time</th>\n",
       "    </tr>\n",
       "  </thead>\n",
       "  <tbody>\n",
       "    <tr>\n",
       "      <td>0</td>\n",
       "      <td>0.108177</td>\n",
       "      <td>0.135331</td>\n",
       "      <td>0.769389</td>\n",
       "      <td>03:39</td>\n",
       "    </tr>\n",
       "  </tbody>\n",
       "</table>"
      ],
      "text/plain": [
       "<IPython.core.display.HTML object>"
      ]
     },
     "metadata": {},
     "output_type": "display_data"
    },
    {
     "data": {
      "text/html": [
       "Total time: 03:39 <p><table border=\"1\" class=\"dataframe\">\n",
       "  <thead>\n",
       "    <tr style=\"text-align: left;\">\n",
       "      <th>epoch</th>\n",
       "      <th>train_loss</th>\n",
       "      <th>valid_loss</th>\n",
       "      <th>Total F1</th>\n",
       "      <th>time</th>\n",
       "    </tr>\n",
       "  </thead>\n",
       "  <tbody>\n",
       "    <tr>\n",
       "      <td>0</td>\n",
       "      <td>0.107568</td>\n",
       "      <td>0.137109</td>\n",
       "      <td>0.766916</td>\n",
       "      <td>03:39</td>\n",
       "    </tr>\n",
       "  </tbody>\n",
       "</table>"
      ],
      "text/plain": [
       "<IPython.core.display.HTML object>"
      ]
     },
     "metadata": {},
     "output_type": "display_data"
    },
    {
     "name": "stdout",
     "output_type": "stream",
     "text": [
      "3 [1.192421e-10 3.319281e-10 9.239711e-10 2.572010e-09 7.159571e-09 1.992972e-08 5.547733e-08 1.544294e-07 4.298770e-07\n",
      " 1.196626e-06 3.330986e-06 9.272292e-06 2.581080e-05 7.184817e-05 2.000000e-04] 2.6\n"
     ]
    },
    {
     "data": {
      "text/html": [
       "Total time: 03:38 <p><table border=\"1\" class=\"dataframe\">\n",
       "  <thead>\n",
       "    <tr style=\"text-align: left;\">\n",
       "      <th>epoch</th>\n",
       "      <th>train_loss</th>\n",
       "      <th>valid_loss</th>\n",
       "      <th>Total F1</th>\n",
       "      <th>time</th>\n",
       "    </tr>\n",
       "  </thead>\n",
       "  <tbody>\n",
       "    <tr>\n",
       "      <td>0</td>\n",
       "      <td>0.105804</td>\n",
       "      <td>0.127383</td>\n",
       "      <td>0.786014</td>\n",
       "      <td>03:38</td>\n",
       "    </tr>\n",
       "  </tbody>\n",
       "</table>"
      ],
      "text/plain": [
       "<IPython.core.display.HTML object>"
      ]
     },
     "metadata": {},
     "output_type": "display_data"
    },
    {
     "data": {
      "text/html": [
       "Total time: 03:38 <p><table border=\"1\" class=\"dataframe\">\n",
       "  <thead>\n",
       "    <tr style=\"text-align: left;\">\n",
       "      <th>epoch</th>\n",
       "      <th>train_loss</th>\n",
       "      <th>valid_loss</th>\n",
       "      <th>Total F1</th>\n",
       "      <th>time</th>\n",
       "    </tr>\n",
       "  </thead>\n",
       "  <tbody>\n",
       "    <tr>\n",
       "      <td>0</td>\n",
       "      <td>0.107155</td>\n",
       "      <td>0.131633</td>\n",
       "      <td>0.778287</td>\n",
       "      <td>03:38</td>\n",
       "    </tr>\n",
       "  </tbody>\n",
       "</table>"
      ],
      "text/plain": [
       "<IPython.core.display.HTML object>"
      ]
     },
     "metadata": {},
     "output_type": "display_data"
    },
    {
     "name": "stdout",
     "output_type": "stream",
     "text": [
      "4 [2.981054e-10 8.298204e-10 2.309928e-09 6.430025e-09 1.789893e-08 4.982431e-08 1.386933e-07 3.860734e-07 1.074692e-06\n",
      " 2.991565e-06 8.327465e-06 2.318073e-05 6.452699e-05 1.796204e-04 5.000000e-04] 2.6\n"
     ]
    },
    {
     "data": {
      "text/html": [
       "Total time: 03:39 <p><table border=\"1\" class=\"dataframe\">\n",
       "  <thead>\n",
       "    <tr style=\"text-align: left;\">\n",
       "      <th>epoch</th>\n",
       "      <th>train_loss</th>\n",
       "      <th>valid_loss</th>\n",
       "      <th>Total F1</th>\n",
       "      <th>time</th>\n",
       "    </tr>\n",
       "  </thead>\n",
       "  <tbody>\n",
       "    <tr>\n",
       "      <td>0</td>\n",
       "      <td>0.097596</td>\n",
       "      <td>0.122939</td>\n",
       "      <td>0.797225</td>\n",
       "      <td>03:39</td>\n",
       "    </tr>\n",
       "  </tbody>\n",
       "</table>"
      ],
      "text/plain": [
       "<IPython.core.display.HTML object>"
      ]
     },
     "metadata": {},
     "output_type": "display_data"
    },
    {
     "data": {
      "text/html": [
       "Total time: 03:39 <p><table border=\"1\" class=\"dataframe\">\n",
       "  <thead>\n",
       "    <tr style=\"text-align: left;\">\n",
       "      <th>epoch</th>\n",
       "      <th>train_loss</th>\n",
       "      <th>valid_loss</th>\n",
       "      <th>Total F1</th>\n",
       "      <th>time</th>\n",
       "    </tr>\n",
       "  </thead>\n",
       "  <tbody>\n",
       "    <tr>\n",
       "      <td>0</td>\n",
       "      <td>0.121437</td>\n",
       "      <td>0.124558</td>\n",
       "      <td>0.793246</td>\n",
       "      <td>03:39</td>\n",
       "    </tr>\n",
       "  </tbody>\n",
       "</table>"
      ],
      "text/plain": [
       "<IPython.core.display.HTML object>"
      ]
     },
     "metadata": {},
     "output_type": "display_data"
    },
    {
     "name": "stdout",
     "output_type": "stream",
     "text": [
      "5 [8.673617e-07 1.435160e-06 2.374653e-06 3.929164e-06 6.501300e-06 1.075722e-05 1.779919e-05 2.945101e-05 4.873042e-05\n",
      " 8.063064e-05 1.334136e-04 2.207497e-04 3.652583e-04 6.043660e-04 1.000000e-03] 1.6\n"
     ]
    },
    {
     "data": {
      "text/html": [
       "Total time: 03:39 <p><table border=\"1\" class=\"dataframe\">\n",
       "  <thead>\n",
       "    <tr style=\"text-align: left;\">\n",
       "      <th>epoch</th>\n",
       "      <th>train_loss</th>\n",
       "      <th>valid_loss</th>\n",
       "      <th>Total F1</th>\n",
       "      <th>time</th>\n",
       "    </tr>\n",
       "  </thead>\n",
       "  <tbody>\n",
       "    <tr>\n",
       "      <td>0</td>\n",
       "      <td>0.093850</td>\n",
       "      <td>0.118082</td>\n",
       "      <td>0.796257</td>\n",
       "      <td>03:39</td>\n",
       "    </tr>\n",
       "  </tbody>\n",
       "</table>"
      ],
      "text/plain": [
       "<IPython.core.display.HTML object>"
      ]
     },
     "metadata": {},
     "output_type": "display_data"
    },
    {
     "data": {
      "text/html": [
       "Total time: 03:38 <p><table border=\"1\" class=\"dataframe\">\n",
       "  <thead>\n",
       "    <tr style=\"text-align: left;\">\n",
       "      <th>epoch</th>\n",
       "      <th>train_loss</th>\n",
       "      <th>valid_loss</th>\n",
       "      <th>Total F1</th>\n",
       "      <th>time</th>\n",
       "    </tr>\n",
       "  </thead>\n",
       "  <tbody>\n",
       "    <tr>\n",
       "      <td>0</td>\n",
       "      <td>0.096395</td>\n",
       "      <td>0.118014</td>\n",
       "      <td>0.806598</td>\n",
       "      <td>03:38</td>\n",
       "    </tr>\n",
       "  </tbody>\n",
       "</table>"
      ],
      "text/plain": [
       "<IPython.core.display.HTML object>"
      ]
     },
     "metadata": {},
     "output_type": "display_data"
    },
    {
     "name": "stdout",
     "output_type": "stream",
     "text": [
      "6 [1.734723e-06 2.870319e-06 4.749307e-06 7.858329e-06 1.300260e-05 2.151445e-05 3.559837e-05 5.890201e-05 9.746083e-05\n",
      " 1.612613e-04 2.668272e-04 4.414993e-04 7.305165e-04 1.208732e-03 2.000000e-03] 1.6\n"
     ]
    },
    {
     "data": {
      "text/html": [
       "Total time: 03:39 <p><table border=\"1\" class=\"dataframe\">\n",
       "  <thead>\n",
       "    <tr style=\"text-align: left;\">\n",
       "      <th>epoch</th>\n",
       "      <th>train_loss</th>\n",
       "      <th>valid_loss</th>\n",
       "      <th>Total F1</th>\n",
       "      <th>time</th>\n",
       "    </tr>\n",
       "  </thead>\n",
       "  <tbody>\n",
       "    <tr>\n",
       "      <td>0</td>\n",
       "      <td>0.101367</td>\n",
       "      <td>0.125730</td>\n",
       "      <td>0.790705</td>\n",
       "      <td>03:39</td>\n",
       "    </tr>\n",
       "  </tbody>\n",
       "</table>"
      ],
      "text/plain": [
       "<IPython.core.display.HTML object>"
      ]
     },
     "metadata": {},
     "output_type": "display_data"
    },
    {
     "data": {
      "text/html": [
       "Total time: 03:39 <p><table border=\"1\" class=\"dataframe\">\n",
       "  <thead>\n",
       "    <tr style=\"text-align: left;\">\n",
       "      <th>epoch</th>\n",
       "      <th>train_loss</th>\n",
       "      <th>valid_loss</th>\n",
       "      <th>Total F1</th>\n",
       "      <th>time</th>\n",
       "    </tr>\n",
       "  </thead>\n",
       "  <tbody>\n",
       "    <tr>\n",
       "      <td>0</td>\n",
       "      <td>0.114202</td>\n",
       "      <td>0.127216</td>\n",
       "      <td>0.782801</td>\n",
       "      <td>03:39</td>\n",
       "    </tr>\n",
       "  </tbody>\n",
       "</table>"
      ],
      "text/plain": [
       "<IPython.core.display.HTML object>"
      ]
     },
     "metadata": {},
     "output_type": "display_data"
    },
    {
     "name": "stdout",
     "output_type": "stream",
     "text": [
      "7 [8.673617e-08 1.435160e-07 2.374653e-07 3.929164e-07 6.501300e-07 1.075722e-06 1.779919e-06 2.945101e-06 4.873042e-06\n",
      " 8.063064e-06 1.334136e-05 2.207497e-05 3.652583e-05 6.043660e-05 1.000000e-04] 1.6\n"
     ]
    },
    {
     "data": {
      "text/html": [
       "Total time: 03:39 <p><table border=\"1\" class=\"dataframe\">\n",
       "  <thead>\n",
       "    <tr style=\"text-align: left;\">\n",
       "      <th>epoch</th>\n",
       "      <th>train_loss</th>\n",
       "      <th>valid_loss</th>\n",
       "      <th>Total F1</th>\n",
       "      <th>time</th>\n",
       "    </tr>\n",
       "  </thead>\n",
       "  <tbody>\n",
       "    <tr>\n",
       "      <td>0</td>\n",
       "      <td>0.097588</td>\n",
       "      <td>0.127569</td>\n",
       "      <td>0.787377</td>\n",
       "      <td>03:39</td>\n",
       "    </tr>\n",
       "  </tbody>\n",
       "</table>"
      ],
      "text/plain": [
       "<IPython.core.display.HTML object>"
      ]
     },
     "metadata": {},
     "output_type": "display_data"
    },
    {
     "data": {
      "text/html": [
       "Total time: 03:38 <p><table border=\"1\" class=\"dataframe\">\n",
       "  <thead>\n",
       "    <tr style=\"text-align: left;\">\n",
       "      <th>epoch</th>\n",
       "      <th>train_loss</th>\n",
       "      <th>valid_loss</th>\n",
       "      <th>Total F1</th>\n",
       "      <th>time</th>\n",
       "    </tr>\n",
       "  </thead>\n",
       "  <tbody>\n",
       "    <tr>\n",
       "      <td>0</td>\n",
       "      <td>0.100055</td>\n",
       "      <td>0.128171</td>\n",
       "      <td>0.781109</td>\n",
       "      <td>03:38</td>\n",
       "    </tr>\n",
       "  </tbody>\n",
       "</table>"
      ],
      "text/plain": [
       "<IPython.core.display.HTML object>"
      ]
     },
     "metadata": {},
     "output_type": "display_data"
    },
    {
     "name": "stdout",
     "output_type": "stream",
     "text": [
      "8 [1.734723e-07 2.870319e-07 4.749307e-07 7.858329e-07 1.300260e-06 2.151445e-06 3.559837e-06 5.890201e-06 9.746083e-06\n",
      " 1.612613e-05 2.668272e-05 4.414993e-05 7.305165e-05 1.208732e-04 2.000000e-04] 1.6\n"
     ]
    },
    {
     "data": {
      "text/html": [
       "Total time: 03:39 <p><table border=\"1\" class=\"dataframe\">\n",
       "  <thead>\n",
       "    <tr style=\"text-align: left;\">\n",
       "      <th>epoch</th>\n",
       "      <th>train_loss</th>\n",
       "      <th>valid_loss</th>\n",
       "      <th>Total F1</th>\n",
       "      <th>time</th>\n",
       "    </tr>\n",
       "  </thead>\n",
       "  <tbody>\n",
       "    <tr>\n",
       "      <td>0</td>\n",
       "      <td>0.099325</td>\n",
       "      <td>0.120831</td>\n",
       "      <td>0.799247</td>\n",
       "      <td>03:39</td>\n",
       "    </tr>\n",
       "  </tbody>\n",
       "</table>"
      ],
      "text/plain": [
       "<IPython.core.display.HTML object>"
      ]
     },
     "metadata": {},
     "output_type": "display_data"
    },
    {
     "data": {
      "text/html": [
       "Total time: 03:39 <p><table border=\"1\" class=\"dataframe\">\n",
       "  <thead>\n",
       "    <tr style=\"text-align: left;\">\n",
       "      <th>epoch</th>\n",
       "      <th>train_loss</th>\n",
       "      <th>valid_loss</th>\n",
       "      <th>Total F1</th>\n",
       "      <th>time</th>\n",
       "    </tr>\n",
       "  </thead>\n",
       "  <tbody>\n",
       "    <tr>\n",
       "      <td>0</td>\n",
       "      <td>0.096942</td>\n",
       "      <td>0.123981</td>\n",
       "      <td>0.798983</td>\n",
       "      <td>03:39</td>\n",
       "    </tr>\n",
       "  </tbody>\n",
       "</table>"
      ],
      "text/plain": [
       "<IPython.core.display.HTML object>"
      ]
     },
     "metadata": {},
     "output_type": "display_data"
    },
    {
     "name": "stdout",
     "output_type": "stream",
     "text": [
      "9 [4.336809e-07 7.175799e-07 1.187327e-06 1.964582e-06 3.250650e-06 5.378611e-06 8.899593e-06 1.472550e-05 2.436521e-05\n",
      " 4.031532e-05 6.670680e-05 1.103748e-04 1.826291e-04 3.021830e-04 5.000000e-04] 1.6\n"
     ]
    },
    {
     "data": {
      "text/html": [
       "Total time: 03:39 <p><table border=\"1\" class=\"dataframe\">\n",
       "  <thead>\n",
       "    <tr style=\"text-align: left;\">\n",
       "      <th>epoch</th>\n",
       "      <th>train_loss</th>\n",
       "      <th>valid_loss</th>\n",
       "      <th>Total F1</th>\n",
       "      <th>time</th>\n",
       "    </tr>\n",
       "  </thead>\n",
       "  <tbody>\n",
       "    <tr>\n",
       "      <td>0</td>\n",
       "      <td>0.098907</td>\n",
       "      <td>0.117975</td>\n",
       "      <td>0.801689</td>\n",
       "      <td>03:39</td>\n",
       "    </tr>\n",
       "  </tbody>\n",
       "</table>"
      ],
      "text/plain": [
       "<IPython.core.display.HTML object>"
      ]
     },
     "metadata": {},
     "output_type": "display_data"
    },
    {
     "data": {
      "text/html": [
       "Total time: 03:39 <p><table border=\"1\" class=\"dataframe\">\n",
       "  <thead>\n",
       "    <tr style=\"text-align: left;\">\n",
       "      <th>epoch</th>\n",
       "      <th>train_loss</th>\n",
       "      <th>valid_loss</th>\n",
       "      <th>Total F1</th>\n",
       "      <th>time</th>\n",
       "    </tr>\n",
       "  </thead>\n",
       "  <tbody>\n",
       "    <tr>\n",
       "      <td>0</td>\n",
       "      <td>0.094956</td>\n",
       "      <td>0.117637</td>\n",
       "      <td>0.806639</td>\n",
       "      <td>03:39</td>\n",
       "    </tr>\n",
       "  </tbody>\n",
       "</table>"
      ],
      "text/plain": [
       "<IPython.core.display.HTML object>"
      ]
     },
     "metadata": {},
     "output_type": "display_data"
    },
    {
     "name": "stdout",
     "output_type": "stream",
     "text": [
      "10 [1.953663e-05 2.587807e-05 3.427789e-05 4.540422e-05 6.014207e-05 7.966371e-05 1.055219e-04 1.397735e-04 1.851429e-04\n",
      " 2.452388e-04 3.248414e-04 4.302823e-04 5.699486e-04 7.549494e-04 1.000000e-03] 1.3\n"
     ]
    },
    {
     "data": {
      "text/html": [
       "Total time: 03:39 <p><table border=\"1\" class=\"dataframe\">\n",
       "  <thead>\n",
       "    <tr style=\"text-align: left;\">\n",
       "      <th>epoch</th>\n",
       "      <th>train_loss</th>\n",
       "      <th>valid_loss</th>\n",
       "      <th>Total F1</th>\n",
       "      <th>time</th>\n",
       "    </tr>\n",
       "  </thead>\n",
       "  <tbody>\n",
       "    <tr>\n",
       "      <td>0</td>\n",
       "      <td>0.098440</td>\n",
       "      <td>0.122465</td>\n",
       "      <td>0.794292</td>\n",
       "      <td>03:39</td>\n",
       "    </tr>\n",
       "  </tbody>\n",
       "</table>"
      ],
      "text/plain": [
       "<IPython.core.display.HTML object>"
      ]
     },
     "metadata": {},
     "output_type": "display_data"
    },
    {
     "data": {
      "text/html": [
       "Total time: 03:39 <p><table border=\"1\" class=\"dataframe\">\n",
       "  <thead>\n",
       "    <tr style=\"text-align: left;\">\n",
       "      <th>epoch</th>\n",
       "      <th>train_loss</th>\n",
       "      <th>valid_loss</th>\n",
       "      <th>Total F1</th>\n",
       "      <th>time</th>\n",
       "    </tr>\n",
       "  </thead>\n",
       "  <tbody>\n",
       "    <tr>\n",
       "      <td>0</td>\n",
       "      <td>0.141925</td>\n",
       "      <td>0.117515</td>\n",
       "      <td>0.813755</td>\n",
       "      <td>03:39</td>\n",
       "    </tr>\n",
       "  </tbody>\n",
       "</table>"
      ],
      "text/plain": [
       "<IPython.core.display.HTML object>"
      ]
     },
     "metadata": {},
     "output_type": "display_data"
    },
    {
     "name": "stdout",
     "output_type": "stream",
     "text": [
      "11 [3.907327e-05 5.175614e-05 6.855577e-05 9.080844e-05 1.202841e-04 1.593274e-04 2.110438e-04 2.795470e-04 3.702858e-04\n",
      " 4.904776e-04 6.496828e-04 8.605647e-04 1.139897e-03 1.509899e-03 2.000000e-03] 1.3\n"
     ]
    },
    {
     "data": {
      "text/html": [
       "Total time: 03:39 <p><table border=\"1\" class=\"dataframe\">\n",
       "  <thead>\n",
       "    <tr style=\"text-align: left;\">\n",
       "      <th>epoch</th>\n",
       "      <th>train_loss</th>\n",
       "      <th>valid_loss</th>\n",
       "      <th>Total F1</th>\n",
       "      <th>time</th>\n",
       "    </tr>\n",
       "  </thead>\n",
       "  <tbody>\n",
       "    <tr>\n",
       "      <td>0</td>\n",
       "      <td>0.111651</td>\n",
       "      <td>0.135022</td>\n",
       "      <td>0.769487</td>\n",
       "      <td>03:39</td>\n",
       "    </tr>\n",
       "  </tbody>\n",
       "</table>"
      ],
      "text/plain": [
       "<IPython.core.display.HTML object>"
      ]
     },
     "metadata": {},
     "output_type": "display_data"
    },
    {
     "data": {
      "text/html": [
       "Total time: 03:39 <p><table border=\"1\" class=\"dataframe\">\n",
       "  <thead>\n",
       "    <tr style=\"text-align: left;\">\n",
       "      <th>epoch</th>\n",
       "      <th>train_loss</th>\n",
       "      <th>valid_loss</th>\n",
       "      <th>Total F1</th>\n",
       "      <th>time</th>\n",
       "    </tr>\n",
       "  </thead>\n",
       "  <tbody>\n",
       "    <tr>\n",
       "      <td>0</td>\n",
       "      <td>0.110607</td>\n",
       "      <td>0.138044</td>\n",
       "      <td>0.758664</td>\n",
       "      <td>03:39</td>\n",
       "    </tr>\n",
       "  </tbody>\n",
       "</table>"
      ],
      "text/plain": [
       "<IPython.core.display.HTML object>"
      ]
     },
     "metadata": {},
     "output_type": "display_data"
    },
    {
     "name": "stdout",
     "output_type": "stream",
     "text": [
      "12 [1.953663e-06 2.587807e-06 3.427789e-06 4.540422e-06 6.014207e-06 7.966371e-06 1.055219e-05 1.397735e-05 1.851429e-05\n",
      " 2.452388e-05 3.248414e-05 4.302823e-05 5.699486e-05 7.549494e-05 1.000000e-04] 1.3\n"
     ]
    },
    {
     "data": {
      "text/html": [
       "Total time: 03:39 <p><table border=\"1\" class=\"dataframe\">\n",
       "  <thead>\n",
       "    <tr style=\"text-align: left;\">\n",
       "      <th>epoch</th>\n",
       "      <th>train_loss</th>\n",
       "      <th>valid_loss</th>\n",
       "      <th>Total F1</th>\n",
       "      <th>time</th>\n",
       "    </tr>\n",
       "  </thead>\n",
       "  <tbody>\n",
       "    <tr>\n",
       "      <td>0</td>\n",
       "      <td>0.095270</td>\n",
       "      <td>0.123141</td>\n",
       "      <td>0.789980</td>\n",
       "      <td>03:39</td>\n",
       "    </tr>\n",
       "  </tbody>\n",
       "</table>"
      ],
      "text/plain": [
       "<IPython.core.display.HTML object>"
      ]
     },
     "metadata": {},
     "output_type": "display_data"
    },
    {
     "data": {
      "text/html": [
       "Total time: 03:39 <p><table border=\"1\" class=\"dataframe\">\n",
       "  <thead>\n",
       "    <tr style=\"text-align: left;\">\n",
       "      <th>epoch</th>\n",
       "      <th>train_loss</th>\n",
       "      <th>valid_loss</th>\n",
       "      <th>Total F1</th>\n",
       "      <th>time</th>\n",
       "    </tr>\n",
       "  </thead>\n",
       "  <tbody>\n",
       "    <tr>\n",
       "      <td>0</td>\n",
       "      <td>0.098660</td>\n",
       "      <td>0.123300</td>\n",
       "      <td>0.788013</td>\n",
       "      <td>03:39</td>\n",
       "    </tr>\n",
       "  </tbody>\n",
       "</table>"
      ],
      "text/plain": [
       "<IPython.core.display.HTML object>"
      ]
     },
     "metadata": {},
     "output_type": "display_data"
    },
    {
     "name": "stdout",
     "output_type": "stream",
     "text": [
      "13 [3.907327e-06 5.175614e-06 6.855577e-06 9.080844e-06 1.202841e-05 1.593274e-05 2.110438e-05 2.795470e-05 3.702858e-05\n",
      " 4.904776e-05 6.496828e-05 8.605647e-05 1.139897e-04 1.509899e-04 2.000000e-04] 1.3\n"
     ]
    },
    {
     "data": {
      "text/html": [
       "Total time: 03:39 <p><table border=\"1\" class=\"dataframe\">\n",
       "  <thead>\n",
       "    <tr style=\"text-align: left;\">\n",
       "      <th>epoch</th>\n",
       "      <th>train_loss</th>\n",
       "      <th>valid_loss</th>\n",
       "      <th>Total F1</th>\n",
       "      <th>time</th>\n",
       "    </tr>\n",
       "  </thead>\n",
       "  <tbody>\n",
       "    <tr>\n",
       "      <td>0</td>\n",
       "      <td>0.093575</td>\n",
       "      <td>0.119613</td>\n",
       "      <td>0.807056</td>\n",
       "      <td>03:39</td>\n",
       "    </tr>\n",
       "  </tbody>\n",
       "</table>"
      ],
      "text/plain": [
       "<IPython.core.display.HTML object>"
      ]
     },
     "metadata": {},
     "output_type": "display_data"
    },
    {
     "data": {
      "text/html": [
       "Total time: 03:39 <p><table border=\"1\" class=\"dataframe\">\n",
       "  <thead>\n",
       "    <tr style=\"text-align: left;\">\n",
       "      <th>epoch</th>\n",
       "      <th>train_loss</th>\n",
       "      <th>valid_loss</th>\n",
       "      <th>Total F1</th>\n",
       "      <th>time</th>\n",
       "    </tr>\n",
       "  </thead>\n",
       "  <tbody>\n",
       "    <tr>\n",
       "      <td>0</td>\n",
       "      <td>0.094651</td>\n",
       "      <td>0.118149</td>\n",
       "      <td>0.800811</td>\n",
       "      <td>03:39</td>\n",
       "    </tr>\n",
       "  </tbody>\n",
       "</table>"
      ],
      "text/plain": [
       "<IPython.core.display.HTML object>"
      ]
     },
     "metadata": {},
     "output_type": "display_data"
    },
    {
     "name": "stdout",
     "output_type": "stream",
     "text": [
      "14 [9.768316e-06 1.293903e-05 1.713894e-05 2.270211e-05 3.007103e-05 3.983186e-05 5.276096e-05 6.988675e-05 9.257144e-05\n",
      " 1.226194e-04 1.624207e-04 2.151412e-04 2.849743e-04 3.774747e-04 5.000000e-04] 1.3\n"
     ]
    },
    {
     "data": {
      "text/html": [
       "Total time: 03:39 <p><table border=\"1\" class=\"dataframe\">\n",
       "  <thead>\n",
       "    <tr style=\"text-align: left;\">\n",
       "      <th>epoch</th>\n",
       "      <th>train_loss</th>\n",
       "      <th>valid_loss</th>\n",
       "      <th>Total F1</th>\n",
       "      <th>time</th>\n",
       "    </tr>\n",
       "  </thead>\n",
       "  <tbody>\n",
       "    <tr>\n",
       "      <td>0</td>\n",
       "      <td>0.099335</td>\n",
       "      <td>0.119621</td>\n",
       "      <td>0.803760</td>\n",
       "      <td>03:39</td>\n",
       "    </tr>\n",
       "  </tbody>\n",
       "</table>"
      ],
      "text/plain": [
       "<IPython.core.display.HTML object>"
      ]
     },
     "metadata": {},
     "output_type": "display_data"
    },
    {
     "data": {
      "text/html": [
       "Total time: 03:39 <p><table border=\"1\" class=\"dataframe\">\n",
       "  <thead>\n",
       "    <tr style=\"text-align: left;\">\n",
       "      <th>epoch</th>\n",
       "      <th>train_loss</th>\n",
       "      <th>valid_loss</th>\n",
       "      <th>Total F1</th>\n",
       "      <th>time</th>\n",
       "    </tr>\n",
       "  </thead>\n",
       "  <tbody>\n",
       "    <tr>\n",
       "      <td>0</td>\n",
       "      <td>0.099146</td>\n",
       "      <td>0.114814</td>\n",
       "      <td>0.816974</td>\n",
       "      <td>03:39</td>\n",
       "    </tr>\n",
       "  </tbody>\n",
       "</table>"
      ],
      "text/plain": [
       "<IPython.core.display.HTML object>"
      ]
     },
     "metadata": {},
     "output_type": "display_data"
    },
    {
     "name": "stdout",
     "output_type": "stream",
     "text": [
      "15 [0.001 0.001 0.001 0.001 0.001 0.001 0.001 0.001 0.001 0.001 0.001 0.001 0.001 0.001 0.001] 1\n"
     ]
    },
    {
     "data": {
      "text/html": [
       "Total time: 03:39 <p><table border=\"1\" class=\"dataframe\">\n",
       "  <thead>\n",
       "    <tr style=\"text-align: left;\">\n",
       "      <th>epoch</th>\n",
       "      <th>train_loss</th>\n",
       "      <th>valid_loss</th>\n",
       "      <th>Total F1</th>\n",
       "      <th>time</th>\n",
       "    </tr>\n",
       "  </thead>\n",
       "  <tbody>\n",
       "    <tr>\n",
       "      <td>0</td>\n",
       "      <td>0.107554</td>\n",
       "      <td>0.128627</td>\n",
       "      <td>0.782588</td>\n",
       "      <td>03:39</td>\n",
       "    </tr>\n",
       "  </tbody>\n",
       "</table>"
      ],
      "text/plain": [
       "<IPython.core.display.HTML object>"
      ]
     },
     "metadata": {},
     "output_type": "display_data"
    },
    {
     "data": {
      "text/html": [
       "Total time: 03:39 <p><table border=\"1\" class=\"dataframe\">\n",
       "  <thead>\n",
       "    <tr style=\"text-align: left;\">\n",
       "      <th>epoch</th>\n",
       "      <th>train_loss</th>\n",
       "      <th>valid_loss</th>\n",
       "      <th>Total F1</th>\n",
       "      <th>time</th>\n",
       "    </tr>\n",
       "  </thead>\n",
       "  <tbody>\n",
       "    <tr>\n",
       "      <td>0</td>\n",
       "      <td>0.114527</td>\n",
       "      <td>0.128082</td>\n",
       "      <td>0.782561</td>\n",
       "      <td>03:39</td>\n",
       "    </tr>\n",
       "  </tbody>\n",
       "</table>"
      ],
      "text/plain": [
       "<IPython.core.display.HTML object>"
      ]
     },
     "metadata": {},
     "output_type": "display_data"
    },
    {
     "name": "stdout",
     "output_type": "stream",
     "text": [
      "16 [0.002 0.002 0.002 0.002 0.002 0.002 0.002 0.002 0.002 0.002 0.002 0.002 0.002 0.002 0.002] 1\n"
     ]
    },
    {
     "data": {
      "text/html": [
       "Total time: 03:39 <p><table border=\"1\" class=\"dataframe\">\n",
       "  <thead>\n",
       "    <tr style=\"text-align: left;\">\n",
       "      <th>epoch</th>\n",
       "      <th>train_loss</th>\n",
       "      <th>valid_loss</th>\n",
       "      <th>Total F1</th>\n",
       "      <th>time</th>\n",
       "    </tr>\n",
       "  </thead>\n",
       "  <tbody>\n",
       "    <tr>\n",
       "      <td>0</td>\n",
       "      <td>0.200636</td>\n",
       "      <td>0.255318</td>\n",
       "      <td>0.336230</td>\n",
       "      <td>03:39</td>\n",
       "    </tr>\n",
       "  </tbody>\n",
       "</table>"
      ],
      "text/plain": [
       "<IPython.core.display.HTML object>"
      ]
     },
     "metadata": {},
     "output_type": "display_data"
    },
    {
     "data": {
      "text/html": [
       "Total time: 03:39 <p><table border=\"1\" class=\"dataframe\">\n",
       "  <thead>\n",
       "    <tr style=\"text-align: left;\">\n",
       "      <th>epoch</th>\n",
       "      <th>train_loss</th>\n",
       "      <th>valid_loss</th>\n",
       "      <th>Total F1</th>\n",
       "      <th>time</th>\n",
       "    </tr>\n",
       "  </thead>\n",
       "  <tbody>\n",
       "    <tr>\n",
       "      <td>0</td>\n",
       "      <td>0.178934</td>\n",
       "      <td>0.223043</td>\n",
       "      <td>0.479615</td>\n",
       "      <td>03:39</td>\n",
       "    </tr>\n",
       "  </tbody>\n",
       "</table>"
      ],
      "text/plain": [
       "<IPython.core.display.HTML object>"
      ]
     },
     "metadata": {},
     "output_type": "display_data"
    },
    {
     "name": "stdout",
     "output_type": "stream",
     "text": [
      "17 [0.0001 0.0001 0.0001 0.0001 0.0001 0.0001 0.0001 0.0001 0.0001 0.0001 0.0001 0.0001 0.0001 0.0001 0.0001] 1\n"
     ]
    },
    {
     "data": {
      "text/html": [
       "Total time: 03:39 <p><table border=\"1\" class=\"dataframe\">\n",
       "  <thead>\n",
       "    <tr style=\"text-align: left;\">\n",
       "      <th>epoch</th>\n",
       "      <th>train_loss</th>\n",
       "      <th>valid_loss</th>\n",
       "      <th>Total F1</th>\n",
       "      <th>time</th>\n",
       "    </tr>\n",
       "  </thead>\n",
       "  <tbody>\n",
       "    <tr>\n",
       "      <td>0</td>\n",
       "      <td>0.088464</td>\n",
       "      <td>0.116918</td>\n",
       "      <td>0.812021</td>\n",
       "      <td>03:39</td>\n",
       "    </tr>\n",
       "  </tbody>\n",
       "</table>"
      ],
      "text/plain": [
       "<IPython.core.display.HTML object>"
      ]
     },
     "metadata": {},
     "output_type": "display_data"
    },
    {
     "data": {
      "text/html": [
       "Total time: 03:39 <p><table border=\"1\" class=\"dataframe\">\n",
       "  <thead>\n",
       "    <tr style=\"text-align: left;\">\n",
       "      <th>epoch</th>\n",
       "      <th>train_loss</th>\n",
       "      <th>valid_loss</th>\n",
       "      <th>Total F1</th>\n",
       "      <th>time</th>\n",
       "    </tr>\n",
       "  </thead>\n",
       "  <tbody>\n",
       "    <tr>\n",
       "      <td>0</td>\n",
       "      <td>0.094340</td>\n",
       "      <td>0.121060</td>\n",
       "      <td>0.797229</td>\n",
       "      <td>03:39</td>\n",
       "    </tr>\n",
       "  </tbody>\n",
       "</table>"
      ],
      "text/plain": [
       "<IPython.core.display.HTML object>"
      ]
     },
     "metadata": {},
     "output_type": "display_data"
    },
    {
     "name": "stdout",
     "output_type": "stream",
     "text": [
      "18 [0.0002 0.0002 0.0002 0.0002 0.0002 0.0002 0.0002 0.0002 0.0002 0.0002 0.0002 0.0002 0.0002 0.0002 0.0002] 1\n"
     ]
    },
    {
     "data": {
      "text/html": [
       "Total time: 03:39 <p><table border=\"1\" class=\"dataframe\">\n",
       "  <thead>\n",
       "    <tr style=\"text-align: left;\">\n",
       "      <th>epoch</th>\n",
       "      <th>train_loss</th>\n",
       "      <th>valid_loss</th>\n",
       "      <th>Total F1</th>\n",
       "      <th>time</th>\n",
       "    </tr>\n",
       "  </thead>\n",
       "  <tbody>\n",
       "    <tr>\n",
       "      <td>0</td>\n",
       "      <td>0.099032</td>\n",
       "      <td>0.117542</td>\n",
       "      <td>0.802224</td>\n",
       "      <td>03:39</td>\n",
       "    </tr>\n",
       "  </tbody>\n",
       "</table>"
      ],
      "text/plain": [
       "<IPython.core.display.HTML object>"
      ]
     },
     "metadata": {},
     "output_type": "display_data"
    },
    {
     "data": {
      "text/html": [
       "Total time: 03:38 <p><table border=\"1\" class=\"dataframe\">\n",
       "  <thead>\n",
       "    <tr style=\"text-align: left;\">\n",
       "      <th>epoch</th>\n",
       "      <th>train_loss</th>\n",
       "      <th>valid_loss</th>\n",
       "      <th>Total F1</th>\n",
       "      <th>time</th>\n",
       "    </tr>\n",
       "  </thead>\n",
       "  <tbody>\n",
       "    <tr>\n",
       "      <td>0</td>\n",
       "      <td>0.095719</td>\n",
       "      <td>0.116951</td>\n",
       "      <td>0.809494</td>\n",
       "      <td>03:38</td>\n",
       "    </tr>\n",
       "  </tbody>\n",
       "</table>"
      ],
      "text/plain": [
       "<IPython.core.display.HTML object>"
      ]
     },
     "metadata": {},
     "output_type": "display_data"
    },
    {
     "name": "stdout",
     "output_type": "stream",
     "text": [
      "19 [0.0005 0.0005 0.0005 0.0005 0.0005 0.0005 0.0005 0.0005 0.0005 0.0005 0.0005 0.0005 0.0005 0.0005 0.0005] 1\n"
     ]
    },
    {
     "data": {
      "text/html": [
       "Total time: 03:39 <p><table border=\"1\" class=\"dataframe\">\n",
       "  <thead>\n",
       "    <tr style=\"text-align: left;\">\n",
       "      <th>epoch</th>\n",
       "      <th>train_loss</th>\n",
       "      <th>valid_loss</th>\n",
       "      <th>Total F1</th>\n",
       "      <th>time</th>\n",
       "    </tr>\n",
       "  </thead>\n",
       "  <tbody>\n",
       "    <tr>\n",
       "      <td>0</td>\n",
       "      <td>0.102039</td>\n",
       "      <td>0.126931</td>\n",
       "      <td>0.786772</td>\n",
       "      <td>03:39</td>\n",
       "    </tr>\n",
       "  </tbody>\n",
       "</table>"
      ],
      "text/plain": [
       "<IPython.core.display.HTML object>"
      ]
     },
     "metadata": {},
     "output_type": "display_data"
    },
    {
     "data": {
      "text/html": [
       "Total time: 03:38 <p><table border=\"1\" class=\"dataframe\">\n",
       "  <thead>\n",
       "    <tr style=\"text-align: left;\">\n",
       "      <th>epoch</th>\n",
       "      <th>train_loss</th>\n",
       "      <th>valid_loss</th>\n",
       "      <th>Total F1</th>\n",
       "      <th>time</th>\n",
       "    </tr>\n",
       "  </thead>\n",
       "  <tbody>\n",
       "    <tr>\n",
       "      <td>0</td>\n",
       "      <td>0.102238</td>\n",
       "      <td>0.124483</td>\n",
       "      <td>0.797822</td>\n",
       "      <td>03:38</td>\n",
       "    </tr>\n",
       "  </tbody>\n",
       "</table>"
      ],
      "text/plain": [
       "<IPython.core.display.HTML object>"
      ]
     },
     "metadata": {},
     "output_type": "display_data"
    }
   ],
   "source": [
    "lrs =[]\n",
    "lrms = [2.6, 1.6, 1] \n",
    "lrs.append(chtw)\n",
    "lrs.append(chtw2)\n",
    "for lrm in lrms:\n",
    "    div = (lrm**num_layers)\n",
    "    lrs.append((learn.lr_range(slice(2e-4/div, 2e-4)),lrm))\n",
    "    lrs.append((learn.lr_range(slice(3e-4/div, 3e-4)),lrm))\n",
    "    lrs.append((learn.lr_range(slice(5e-4/div, 5e-4)),lrm))\n",
    "    if lrm!=1: lrs.append((learn.lr_range(slice(lr0/div, lr0)),lrm))\n",
    "stage2 = test_lrs(name+'x3', lrs)"
   ]
  },
  {
   "cell_type": "code",
   "execution_count": 24,
   "metadata": {},
   "outputs": [
    {
     "data": {
      "text/html": [
       "<div>\n",
       "<style scoped>\n",
       "    .dataframe tbody tr th:only-of-type {\n",
       "        vertical-align: middle;\n",
       "    }\n",
       "\n",
       "    .dataframe tbody tr th {\n",
       "        vertical-align: top;\n",
       "    }\n",
       "\n",
       "    .dataframe thead th {\n",
       "        text-align: right;\n",
       "    }\n",
       "</style>\n",
       "<table border=\"1\" class=\"dataframe\">\n",
       "  <thead>\n",
       "    <tr style=\"text-align: right;\">\n",
       "      <th></th>\n",
       "      <th>f1</th>\n",
       "      <th>f1s</th>\n",
       "      <th>lrm</th>\n",
       "      <th>lrs</th>\n",
       "      <th>train</th>\n",
       "      <th>val</th>\n",
       "      <th>vals</th>\n",
       "    </tr>\n",
       "  </thead>\n",
       "  <tbody>\n",
       "    <tr>\n",
       "      <th>14</th>\n",
       "      <td>0.810367</td>\n",
       "      <td>[0.8037602815215439, 0.8169744592254504]</td>\n",
       "      <td>1.3</td>\n",
       "      <td>[9.768316435592065e-06, 1.2939034859632092e-05...</td>\n",
       "      <td>[[tensor(0.1145), tensor(0.1367), tensor(0.162...</td>\n",
       "      <td>0.117217</td>\n",
       "      <td>[0.11962091, 0.11481395]</td>\n",
       "    </tr>\n",
       "    <tr>\n",
       "      <th>1</th>\n",
       "      <td>0.809107</td>\n",
       "      <td>[0.8046104044900226, 0.813604586728509]</td>\n",
       "      <td>2.6</td>\n",
       "      <td>[1.1924214398916095e-09, 3.3192814395810177e-0...</td>\n",
       "      <td>[[tensor(0.0544), tensor(0.0852), tensor(0.098...</td>\n",
       "      <td>0.116004</td>\n",
       "      <td>[0.11709512, 0.11491382]</td>\n",
       "    </tr>\n",
       "    <tr>\n",
       "      <th>18</th>\n",
       "      <td>0.805859</td>\n",
       "      <td>[0.8022236136563409, 0.8094939678538278]</td>\n",
       "      <td>1.0</td>\n",
       "      <td>[0.0002, 0.0002, 0.0002, 0.0002, 0.0002, 0.000...</td>\n",
       "      <td>[[tensor(0.1490), tensor(0.1283), tensor(0.117...</td>\n",
       "      <td>0.117247</td>\n",
       "      <td>[0.117542274, 0.11695079]</td>\n",
       "    </tr>\n",
       "    <tr>\n",
       "      <th>17</th>\n",
       "      <td>0.804625</td>\n",
       "      <td>[0.8120206600106099, 0.7972292186441414]</td>\n",
       "      <td>1.0</td>\n",
       "      <td>[0.0001, 0.0001, 0.0001, 0.0001, 0.0001, 0.000...</td>\n",
       "      <td>[[tensor(0.1118), tensor(0.1118), tensor(0.140...</td>\n",
       "      <td>0.118989</td>\n",
       "      <td>[0.116918474, 0.12106043]</td>\n",
       "    </tr>\n",
       "    <tr>\n",
       "      <th>9</th>\n",
       "      <td>0.804164</td>\n",
       "      <td>[0.8016890830161307, 0.8066393953469835]</td>\n",
       "      <td>1.6</td>\n",
       "      <td>[4.336808689942014e-07, 7.175798680306995e-07,...</td>\n",
       "      <td>[[tensor(0.1447), tensor(0.1157), tensor(0.122...</td>\n",
       "      <td>0.117806</td>\n",
       "      <td>[0.11797511, 0.117637165]</td>\n",
       "    </tr>\n",
       "    <tr>\n",
       "      <th>10</th>\n",
       "      <td>0.804023</td>\n",
       "      <td>[0.7942915708954106, 0.8137553726929695]</td>\n",
       "      <td>1.3</td>\n",
       "      <td>[1.953663287118413e-05, 2.5878069719264184e-05...</td>\n",
       "      <td>[[tensor(0.1189), tensor(0.1651), tensor(0.147...</td>\n",
       "      <td>0.119990</td>\n",
       "      <td>[0.12246543, 0.11751535]</td>\n",
       "    </tr>\n",
       "    <tr>\n",
       "      <th>13</th>\n",
       "      <td>0.803934</td>\n",
       "      <td>[0.8070564032662928, 0.8008114218299857]</td>\n",
       "      <td>1.3</td>\n",
       "      <td>[3.907326574236826e-06, 5.175613943852837e-06,...</td>\n",
       "      <td>[[tensor(0.1813), tensor(0.1809), tensor(0.156...</td>\n",
       "      <td>0.118881</td>\n",
       "      <td>[0.119612776, 0.11814946]</td>\n",
       "    </tr>\n",
       "    <tr>\n",
       "      <th>0</th>\n",
       "      <td>0.803888</td>\n",
       "      <td>[0.7985753853337937, 0.8092011969166953]</td>\n",
       "      <td>2.6</td>\n",
       "      <td>[5.962107199458047e-10, 1.6596407197905088e-09...</td>\n",
       "      <td>[[tensor(0.1196), tensor(0.1198), tensor(0.126...</td>\n",
       "      <td>0.118417</td>\n",
       "      <td>[0.120440625, 0.11639374]</td>\n",
       "    </tr>\n",
       "    <tr>\n",
       "      <th>5</th>\n",
       "      <td>0.801427</td>\n",
       "      <td>[0.7962569783477383, 0.8065978731713688]</td>\n",
       "      <td>1.6</td>\n",
       "      <td>[8.673617379884028e-07, 1.435159736061399e-06,...</td>\n",
       "      <td>[[tensor(0.0819), tensor(0.0972), tensor(0.125...</td>\n",
       "      <td>0.118048</td>\n",
       "      <td>[0.11808194, 0.118013784]</td>\n",
       "    </tr>\n",
       "    <tr>\n",
       "      <th>8</th>\n",
       "      <td>0.799115</td>\n",
       "      <td>[0.7992465855936894, 0.7989834003428236]</td>\n",
       "      <td>1.6</td>\n",
       "      <td>[1.7347234759768058e-07, 2.870319472122798e-07...</td>\n",
       "      <td>[[tensor(0.0752), tensor(0.1009), tensor(0.123...</td>\n",
       "      <td>0.122406</td>\n",
       "      <td>[0.12083129, 0.12398051]</td>\n",
       "    </tr>\n",
       "    <tr>\n",
       "      <th>4</th>\n",
       "      <td>0.795235</td>\n",
       "      <td>[0.7972248497056091, 0.7932455996277099]</td>\n",
       "      <td>2.6</td>\n",
       "      <td>[2.9810535997290237e-10, 8.298203598952544e-10...</td>\n",
       "      <td>[[tensor(0.0905), tensor(0.1656), tensor(0.134...</td>\n",
       "      <td>0.123748</td>\n",
       "      <td>[0.12293855, 0.12455753]</td>\n",
       "    </tr>\n",
       "    <tr>\n",
       "      <th>19</th>\n",
       "      <td>0.792297</td>\n",
       "      <td>[0.7867716530438855, 0.7978219691976346]</td>\n",
       "      <td>1.0</td>\n",
       "      <td>[0.0005, 0.0005, 0.0005, 0.0005, 0.0005, 0.000...</td>\n",
       "      <td>[[tensor(0.1525), tensor(0.1221), tensor(0.122...</td>\n",
       "      <td>0.125707</td>\n",
       "      <td>[0.12693137, 0.12448344]</td>\n",
       "    </tr>\n",
       "    <tr>\n",
       "      <th>12</th>\n",
       "      <td>0.788996</td>\n",
       "      <td>[0.7899795173830604, 0.7880129670029246]</td>\n",
       "      <td>1.3</td>\n",
       "      <td>[1.953663287118413e-06, 2.5878069719264186e-06...</td>\n",
       "      <td>[[tensor(0.1049), tensor(0.0932), tensor(0.129...</td>\n",
       "      <td>0.123220</td>\n",
       "      <td>[0.12314054, 0.12329992]</td>\n",
       "    </tr>\n",
       "    <tr>\n",
       "      <th>6</th>\n",
       "      <td>0.786753</td>\n",
       "      <td>[0.7907050014698724, 0.7828011376607085]</td>\n",
       "      <td>1.6</td>\n",
       "      <td>[1.7347234759768056e-06, 2.870319472122798e-06...</td>\n",
       "      <td>[[tensor(0.1002), tensor(0.1633), tensor(0.178...</td>\n",
       "      <td>0.126473</td>\n",
       "      <td>[0.12573004, 0.12721649]</td>\n",
       "    </tr>\n",
       "    <tr>\n",
       "      <th>7</th>\n",
       "      <td>0.784243</td>\n",
       "      <td>[0.7873767253389211, 0.7811090889715417]</td>\n",
       "      <td>1.6</td>\n",
       "      <td>[8.673617379884029e-08, 1.435159736061399e-07,...</td>\n",
       "      <td>[[tensor(0.0811), tensor(0.0759), tensor(0.096...</td>\n",
       "      <td>0.127870</td>\n",
       "      <td>[0.12756948, 0.12817106]</td>\n",
       "    </tr>\n",
       "    <tr>\n",
       "      <th>15</th>\n",
       "      <td>0.782575</td>\n",
       "      <td>[0.7825882347945531, 0.7825611370891856]</td>\n",
       "      <td>1.0</td>\n",
       "      <td>[0.001, 0.001, 0.001, 0.001, 0.001, 0.001, 0.0...</td>\n",
       "      <td>[[tensor(0.1390), tensor(0.3417), tensor(0.263...</td>\n",
       "      <td>0.128354</td>\n",
       "      <td>[0.12862651, 0.12808207]</td>\n",
       "    </tr>\n",
       "    <tr>\n",
       "      <th>3</th>\n",
       "      <td>0.782150</td>\n",
       "      <td>[0.7860137642345738, 0.7782869780089385]</td>\n",
       "      <td>2.6</td>\n",
       "      <td>[1.1924214398916095e-10, 3.319281439581018e-10...</td>\n",
       "      <td>[[tensor(0.0695), tensor(0.0558), tensor(0.092...</td>\n",
       "      <td>0.129508</td>\n",
       "      <td>[0.12738323, 0.13163336]</td>\n",
       "    </tr>\n",
       "    <tr>\n",
       "      <th>2</th>\n",
       "      <td>0.768153</td>\n",
       "      <td>[0.7693893730139699, 0.7669160956641037]</td>\n",
       "      <td>2.6</td>\n",
       "      <td>[5.962107199458048e-11, 1.659640719790509e-10,...</td>\n",
       "      <td>[[tensor(0.1142), tensor(0.1261), tensor(0.125...</td>\n",
       "      <td>0.136220</td>\n",
       "      <td>[0.13533147, 0.13710874]</td>\n",
       "    </tr>\n",
       "    <tr>\n",
       "      <th>11</th>\n",
       "      <td>0.764075</td>\n",
       "      <td>[0.7694866915160432, 0.7586642451784329]</td>\n",
       "      <td>1.3</td>\n",
       "      <td>[3.907326574236826e-05, 5.175613943852837e-05,...</td>\n",
       "      <td>[[tensor(0.0770), tensor(0.1468), tensor(0.291...</td>\n",
       "      <td>0.136533</td>\n",
       "      <td>[0.13502192, 0.13804431]</td>\n",
       "    </tr>\n",
       "    <tr>\n",
       "      <th>16</th>\n",
       "      <td>0.407923</td>\n",
       "      <td>[0.33623000031455136, 0.47961517180570945]</td>\n",
       "      <td>1.0</td>\n",
       "      <td>[0.002, 0.002, 0.002, 0.002, 0.002, 0.002, 0.0...</td>\n",
       "      <td>[[tensor(0.1695), tensor(0.2212), tensor(0.411...</td>\n",
       "      <td>0.239181</td>\n",
       "      <td>[0.2553177, 0.22304337]</td>\n",
       "    </tr>\n",
       "  </tbody>\n",
       "</table>\n",
       "</div>"
      ],
      "text/plain": [
       "          f1                                         f1s  lrm  \\\n",
       "14  0.810367    [0.8037602815215439, 0.8169744592254504]  1.3   \n",
       "1   0.809107     [0.8046104044900226, 0.813604586728509]  2.6   \n",
       "18  0.805859    [0.8022236136563409, 0.8094939678538278]  1.0   \n",
       "17  0.804625    [0.8120206600106099, 0.7972292186441414]  1.0   \n",
       "9   0.804164    [0.8016890830161307, 0.8066393953469835]  1.6   \n",
       "10  0.804023    [0.7942915708954106, 0.8137553726929695]  1.3   \n",
       "13  0.803934    [0.8070564032662928, 0.8008114218299857]  1.3   \n",
       "0   0.803888    [0.7985753853337937, 0.8092011969166953]  2.6   \n",
       "5   0.801427    [0.7962569783477383, 0.8065978731713688]  1.6   \n",
       "8   0.799115    [0.7992465855936894, 0.7989834003428236]  1.6   \n",
       "4   0.795235    [0.7972248497056091, 0.7932455996277099]  2.6   \n",
       "19  0.792297    [0.7867716530438855, 0.7978219691976346]  1.0   \n",
       "12  0.788996    [0.7899795173830604, 0.7880129670029246]  1.3   \n",
       "6   0.786753    [0.7907050014698724, 0.7828011376607085]  1.6   \n",
       "7   0.784243    [0.7873767253389211, 0.7811090889715417]  1.6   \n",
       "15  0.782575    [0.7825882347945531, 0.7825611370891856]  1.0   \n",
       "3   0.782150    [0.7860137642345738, 0.7782869780089385]  2.6   \n",
       "2   0.768153    [0.7693893730139699, 0.7669160956641037]  2.6   \n",
       "11  0.764075    [0.7694866915160432, 0.7586642451784329]  1.3   \n",
       "16  0.407923  [0.33623000031455136, 0.47961517180570945]  1.0   \n",
       "\n",
       "                                                  lrs  \\\n",
       "14  [9.768316435592065e-06, 1.2939034859632092e-05...   \n",
       "1   [1.1924214398916095e-09, 3.3192814395810177e-0...   \n",
       "18  [0.0002, 0.0002, 0.0002, 0.0002, 0.0002, 0.000...   \n",
       "17  [0.0001, 0.0001, 0.0001, 0.0001, 0.0001, 0.000...   \n",
       "9   [4.336808689942014e-07, 7.175798680306995e-07,...   \n",
       "10  [1.953663287118413e-05, 2.5878069719264184e-05...   \n",
       "13  [3.907326574236826e-06, 5.175613943852837e-06,...   \n",
       "0   [5.962107199458047e-10, 1.6596407197905088e-09...   \n",
       "5   [8.673617379884028e-07, 1.435159736061399e-06,...   \n",
       "8   [1.7347234759768058e-07, 2.870319472122798e-07...   \n",
       "4   [2.9810535997290237e-10, 8.298203598952544e-10...   \n",
       "19  [0.0005, 0.0005, 0.0005, 0.0005, 0.0005, 0.000...   \n",
       "12  [1.953663287118413e-06, 2.5878069719264186e-06...   \n",
       "6   [1.7347234759768056e-06, 2.870319472122798e-06...   \n",
       "7   [8.673617379884029e-08, 1.435159736061399e-07,...   \n",
       "15  [0.001, 0.001, 0.001, 0.001, 0.001, 0.001, 0.0...   \n",
       "3   [1.1924214398916095e-10, 3.319281439581018e-10...   \n",
       "2   [5.962107199458048e-11, 1.659640719790509e-10,...   \n",
       "11  [3.907326574236826e-05, 5.175613943852837e-05,...   \n",
       "16  [0.002, 0.002, 0.002, 0.002, 0.002, 0.002, 0.0...   \n",
       "\n",
       "                                                train       val  \\\n",
       "14  [[tensor(0.1145), tensor(0.1367), tensor(0.162...  0.117217   \n",
       "1   [[tensor(0.0544), tensor(0.0852), tensor(0.098...  0.116004   \n",
       "18  [[tensor(0.1490), tensor(0.1283), tensor(0.117...  0.117247   \n",
       "17  [[tensor(0.1118), tensor(0.1118), tensor(0.140...  0.118989   \n",
       "9   [[tensor(0.1447), tensor(0.1157), tensor(0.122...  0.117806   \n",
       "10  [[tensor(0.1189), tensor(0.1651), tensor(0.147...  0.119990   \n",
       "13  [[tensor(0.1813), tensor(0.1809), tensor(0.156...  0.118881   \n",
       "0   [[tensor(0.1196), tensor(0.1198), tensor(0.126...  0.118417   \n",
       "5   [[tensor(0.0819), tensor(0.0972), tensor(0.125...  0.118048   \n",
       "8   [[tensor(0.0752), tensor(0.1009), tensor(0.123...  0.122406   \n",
       "4   [[tensor(0.0905), tensor(0.1656), tensor(0.134...  0.123748   \n",
       "19  [[tensor(0.1525), tensor(0.1221), tensor(0.122...  0.125707   \n",
       "12  [[tensor(0.1049), tensor(0.0932), tensor(0.129...  0.123220   \n",
       "6   [[tensor(0.1002), tensor(0.1633), tensor(0.178...  0.126473   \n",
       "7   [[tensor(0.0811), tensor(0.0759), tensor(0.096...  0.127870   \n",
       "15  [[tensor(0.1390), tensor(0.3417), tensor(0.263...  0.128354   \n",
       "3   [[tensor(0.0695), tensor(0.0558), tensor(0.092...  0.129508   \n",
       "2   [[tensor(0.1142), tensor(0.1261), tensor(0.125...  0.136220   \n",
       "11  [[tensor(0.0770), tensor(0.1468), tensor(0.291...  0.136533   \n",
       "16  [[tensor(0.1695), tensor(0.2212), tensor(0.411...  0.239181   \n",
       "\n",
       "                         vals  \n",
       "14   [0.11962091, 0.11481395]  \n",
       "1    [0.11709512, 0.11491382]  \n",
       "18  [0.117542274, 0.11695079]  \n",
       "17  [0.116918474, 0.12106043]  \n",
       "9   [0.11797511, 0.117637165]  \n",
       "10   [0.12246543, 0.11751535]  \n",
       "13  [0.119612776, 0.11814946]  \n",
       "0   [0.120440625, 0.11639374]  \n",
       "5   [0.11808194, 0.118013784]  \n",
       "8    [0.12083129, 0.12398051]  \n",
       "4    [0.12293855, 0.12455753]  \n",
       "19   [0.12693137, 0.12448344]  \n",
       "12   [0.12314054, 0.12329992]  \n",
       "6    [0.12573004, 0.12721649]  \n",
       "7    [0.12756948, 0.12817106]  \n",
       "15   [0.12862651, 0.12808207]  \n",
       "3    [0.12738323, 0.13163336]  \n",
       "2    [0.13533147, 0.13710874]  \n",
       "11   [0.13502192, 0.13804431]  \n",
       "16    [0.2553177, 0.22304337]  "
      ]
     },
     "execution_count": 24,
     "metadata": {},
     "output_type": "execute_result"
    }
   ],
   "source": [
    "df = pd.DataFrame(stage2).sort_values(by=['f1', 'val'],ascending=[False, True])\n",
    "df.to_csv(csvn, mode='a')\n",
    "df"
   ]
  },
  {
   "cell_type": "code",
   "execution_count": 25,
   "metadata": {},
   "outputs": [
    {
     "data": {
      "text/html": [
       "Total time: 03:39 <p><table border=\"1\" class=\"dataframe\">\n",
       "  <thead>\n",
       "    <tr style=\"text-align: left;\">\n",
       "      <th>epoch</th>\n",
       "      <th>train_loss</th>\n",
       "      <th>valid_loss</th>\n",
       "      <th>Total F1</th>\n",
       "      <th>time</th>\n",
       "    </tr>\n",
       "  </thead>\n",
       "  <tbody>\n",
       "    <tr>\n",
       "      <td>0</td>\n",
       "      <td>0.075342</td>\n",
       "      <td>0.115575</td>\n",
       "      <td>0.816224</td>\n",
       "      <td>03:39</td>\n",
       "    </tr>\n",
       "  </tbody>\n",
       "</table>"
      ],
      "text/plain": [
       "<IPython.core.display.HTML object>"
      ]
     },
     "metadata": {},
     "output_type": "display_data"
    }
   ],
   "source": [
    "learn.load(name+'x3')\n",
    "learn.fit_one_cycle(1,df.iloc[0]['lrs'], moms=(0.8,0.7))"
   ]
  },
  {
   "cell_type": "code",
   "execution_count": 26,
   "metadata": {},
   "outputs": [
    {
     "data": {
      "text/html": [],
      "text/plain": [
       "<IPython.core.display.HTML object>"
      ]
     },
     "metadata": {},
     "output_type": "display_data"
    },
    {
     "name": "stdout",
     "output_type": "stream",
     "text": [
      "LR Finder is complete, type {learner_name}.recorder.plot() to see the graph.\n"
     ]
    },
    {
     "data": {
      "image/png": "[encoded data removed]",
      "text/plain": [
       "<Figure size 432x288 with 1 Axes>"
      ]
     },
     "metadata": {
      "needs_background": "light"
     },
     "output_type": "display_data"
    }
   ],
   "source": [
    "learn.freeze_to(-6)\n",
    "learn.save(name+'x6')\n",
    "learn.lr_find()\n",
    "learn.recorder.plot()\n"
   ]
  },
  {
   "cell_type": "code",
   "execution_count": 28,
   "metadata": {},
   "outputs": [
    {
     "name": "stdout",
     "output_type": "stream",
     "text": [
      "0 [2.981054e-10 8.298204e-10 2.309928e-09 6.430025e-09 1.789893e-08 4.982431e-08 1.386933e-07 3.860734e-07 1.074692e-06\n",
      " 2.991565e-06 8.327465e-06 2.318073e-05 6.452699e-05 1.796204e-04 5.000000e-04] 2.6\n"
     ]
    },
    {
     "data": {
      "text/html": [
       "Total time: 04:16 <p><table border=\"1\" class=\"dataframe\">\n",
       "  <thead>\n",
       "    <tr style=\"text-align: left;\">\n",
       "      <th>epoch</th>\n",
       "      <th>train_loss</th>\n",
       "      <th>valid_loss</th>\n",
       "      <th>Total F1</th>\n",
       "      <th>time</th>\n",
       "    </tr>\n",
       "  </thead>\n",
       "  <tbody>\n",
       "    <tr>\n",
       "      <td>0</td>\n",
       "      <td>0.070174</td>\n",
       "      <td>0.105957</td>\n",
       "      <td>0.827506</td>\n",
       "      <td>04:16</td>\n",
       "    </tr>\n",
       "  </tbody>\n",
       "</table>"
      ],
      "text/plain": [
       "<IPython.core.display.HTML object>"
      ]
     },
     "metadata": {},
     "output_type": "display_data"
    },
    {
     "data": {
      "text/html": [
       "Total time: 04:16 <p><table border=\"1\" class=\"dataframe\">\n",
       "  <thead>\n",
       "    <tr style=\"text-align: left;\">\n",
       "      <th>epoch</th>\n",
       "      <th>train_loss</th>\n",
       "      <th>valid_loss</th>\n",
       "      <th>Total F1</th>\n",
       "      <th>time</th>\n",
       "    </tr>\n",
       "  </thead>\n",
       "  <tbody>\n",
       "    <tr>\n",
       "      <td>0</td>\n",
       "      <td>0.098680</td>\n",
       "      <td>0.104968</td>\n",
       "      <td>0.835117</td>\n",
       "      <td>04:16</td>\n",
       "    </tr>\n",
       "  </tbody>\n",
       "</table>"
      ],
      "text/plain": [
       "<IPython.core.display.HTML object>"
      ]
     },
     "metadata": {},
     "output_type": "display_data"
    },
    {
     "name": "stdout",
     "output_type": "stream",
     "text": [
      "1 [5.962107e-11 1.659641e-10 4.619855e-10 1.286005e-09 3.579785e-09 9.964862e-09 2.773867e-08 7.721468e-08 2.149385e-07\n",
      " 5.983131e-07 1.665493e-06 4.636146e-06 1.290540e-05 3.592408e-05 1.000000e-04] 2.6\n"
     ]
    },
    {
     "data": {
      "text/html": [
       "Total time: 04:16 <p><table border=\"1\" class=\"dataframe\">\n",
       "  <thead>\n",
       "    <tr style=\"text-align: left;\">\n",
       "      <th>epoch</th>\n",
       "      <th>train_loss</th>\n",
       "      <th>valid_loss</th>\n",
       "      <th>Total F1</th>\n",
       "      <th>time</th>\n",
       "    </tr>\n",
       "  </thead>\n",
       "  <tbody>\n",
       "    <tr>\n",
       "      <td>0</td>\n",
       "      <td>0.071920</td>\n",
       "      <td>0.113687</td>\n",
       "      <td>0.823612</td>\n",
       "      <td>04:16</td>\n",
       "    </tr>\n",
       "  </tbody>\n",
       "</table>"
      ],
      "text/plain": [
       "<IPython.core.display.HTML object>"
      ]
     },
     "metadata": {},
     "output_type": "display_data"
    },
    {
     "data": {
      "text/html": [
       "Total time: 04:15 <p><table border=\"1\" class=\"dataframe\">\n",
       "  <thead>\n",
       "    <tr style=\"text-align: left;\">\n",
       "      <th>epoch</th>\n",
       "      <th>train_loss</th>\n",
       "      <th>valid_loss</th>\n",
       "      <th>Total F1</th>\n",
       "      <th>time</th>\n",
       "    </tr>\n",
       "  </thead>\n",
       "  <tbody>\n",
       "    <tr>\n",
       "      <td>0</td>\n",
       "      <td>0.075945</td>\n",
       "      <td>0.113097</td>\n",
       "      <td>0.825248</td>\n",
       "      <td>04:15</td>\n",
       "    </tr>\n",
       "  </tbody>\n",
       "</table>"
      ],
      "text/plain": [
       "<IPython.core.display.HTML object>"
      ]
     },
     "metadata": {},
     "output_type": "display_data"
    },
    {
     "name": "stdout",
     "output_type": "stream",
     "text": [
      "2 [2.981054e-11 8.298204e-11 2.309928e-10 6.430025e-10 1.789893e-09 4.982431e-09 1.386933e-08 3.860734e-08 1.074692e-07\n",
      " 2.991565e-07 8.327465e-07 2.318073e-06 6.452699e-06 1.796204e-05 5.000000e-05] 2.6\n"
     ]
    },
    {
     "data": {
      "text/html": [
       "Total time: 04:15 <p><table border=\"1\" class=\"dataframe\">\n",
       "  <thead>\n",
       "    <tr style=\"text-align: left;\">\n",
       "      <th>epoch</th>\n",
       "      <th>train_loss</th>\n",
       "      <th>valid_loss</th>\n",
       "      <th>Total F1</th>\n",
       "      <th>time</th>\n",
       "    </tr>\n",
       "  </thead>\n",
       "  <tbody>\n",
       "    <tr>\n",
       "      <td>0</td>\n",
       "      <td>0.070942</td>\n",
       "      <td>0.114204</td>\n",
       "      <td>0.819196</td>\n",
       "      <td>04:15</td>\n",
       "    </tr>\n",
       "  </tbody>\n",
       "</table>"
      ],
      "text/plain": [
       "<IPython.core.display.HTML object>"
      ]
     },
     "metadata": {},
     "output_type": "display_data"
    },
    {
     "data": {
      "text/html": [
       "Total time: 04:15 <p><table border=\"1\" class=\"dataframe\">\n",
       "  <thead>\n",
       "    <tr style=\"text-align: left;\">\n",
       "      <th>epoch</th>\n",
       "      <th>train_loss</th>\n",
       "      <th>valid_loss</th>\n",
       "      <th>Total F1</th>\n",
       "      <th>time</th>\n",
       "    </tr>\n",
       "  </thead>\n",
       "  <tbody>\n",
       "    <tr>\n",
       "      <td>0</td>\n",
       "      <td>0.068828</td>\n",
       "      <td>0.113827</td>\n",
       "      <td>0.824478</td>\n",
       "      <td>04:15</td>\n",
       "    </tr>\n",
       "  </tbody>\n",
       "</table>"
      ],
      "text/plain": [
       "<IPython.core.display.HTML object>"
      ]
     },
     "metadata": {},
     "output_type": "display_data"
    },
    {
     "name": "stdout",
     "output_type": "stream",
     "text": [
      "3 [7.750739e-11 2.015192e-10 5.239500e-10 1.362270e-09 3.541902e-09 9.208945e-09 2.394326e-08 6.225247e-08 1.618564e-07\n",
      " 4.208267e-07 1.094149e-06 2.844788e-06 7.396450e-06 1.923077e-05 5.000000e-05 1.000000e-05] 2.6\n"
     ]
    },
    {
     "ename": "AssertionError",
     "evalue": "List len mismatch (16 vs 15)",
     "output_type": "error",
     "traceback": [
      "\u001b[0;31m---------------------------------------------------------------------------\u001b[0m",
      "\u001b[0;31mAssertionError\u001b[0m                            Traceback (most recent call last)",
      "\u001b[0;32m<ipython-input-28-7d27284321a3>\u001b[0m in \u001b[0;36m<module>\u001b[0;34m\u001b[0m\n\u001b[1;32m     10\u001b[0m     lrs.append((np.append(\n\u001b[1;32m     11\u001b[0m         learn.lr_range(slice(1e-4/(lrm**14), 1e-4))[1:],5e-05),lrm))\n\u001b[0;32m---> 12\u001b[0;31m \u001b[0mstage3\u001b[0m \u001b[0;34m=\u001b[0m \u001b[0mtest_lrs\u001b[0m\u001b[0;34m(\u001b[0m\u001b[0;34m'x6'\u001b[0m\u001b[0;34m,\u001b[0m \u001b[0mlrs\u001b[0m\u001b[0;34m)\u001b[0m\u001b[0;34m\u001b[0m\u001b[0;34m\u001b[0m\u001b[0m\n\u001b[0m",
      "\u001b[0;32m<ipython-input-17-cf00eddc7743>\u001b[0m in \u001b[0;36mtest_lrs\u001b[0;34m(stage, all_lrs, runs)\u001b[0m\n\u001b[1;32m      7\u001b[0m         \u001b[0;32mfor\u001b[0m \u001b[0m_\u001b[0m \u001b[0;32min\u001b[0m \u001b[0mrange\u001b[0m\u001b[0;34m(\u001b[0m\u001b[0mruns\u001b[0m\u001b[0;34m)\u001b[0m\u001b[0;34m:\u001b[0m\u001b[0;34m\u001b[0m\u001b[0;34m\u001b[0m\u001b[0m\n\u001b[1;32m      8\u001b[0m             \u001b[0mlearn\u001b[0m\u001b[0;34m.\u001b[0m\u001b[0mload\u001b[0m\u001b[0;34m(\u001b[0m\u001b[0mstage\u001b[0m\u001b[0;34m)\u001b[0m\u001b[0;34m\u001b[0m\u001b[0;34m\u001b[0m\u001b[0m\n\u001b[0;32m----> 9\u001b[0;31m             \u001b[0mlearn\u001b[0m\u001b[0;34m.\u001b[0m\u001b[0mfit_one_cycle\u001b[0m\u001b[0;34m(\u001b[0m\u001b[0;36m1\u001b[0m\u001b[0;34m,\u001b[0m \u001b[0mlrs\u001b[0m\u001b[0;34m,\u001b[0m \u001b[0mmoms\u001b[0m\u001b[0;34m=\u001b[0m\u001b[0;34m(\u001b[0m\u001b[0;36m0.8\u001b[0m\u001b[0;34m,\u001b[0m\u001b[0;36m0.7\u001b[0m\u001b[0;34m)\u001b[0m\u001b[0;34m)\u001b[0m\u001b[0;34m\u001b[0m\u001b[0;34m\u001b[0m\u001b[0m\n\u001b[0m\u001b[1;32m     10\u001b[0m \u001b[0;34m\u001b[0m\u001b[0m\n\u001b[1;32m     11\u001b[0m             \u001b[0mi_res\u001b[0m\u001b[0;34m[\u001b[0m\u001b[0;34m'f1s'\u001b[0m\u001b[0;34m]\u001b[0m\u001b[0;34m.\u001b[0m\u001b[0mappend\u001b[0m\u001b[0;34m(\u001b[0m\u001b[0mlearn\u001b[0m\u001b[0;34m.\u001b[0m\u001b[0mrecorder\u001b[0m\u001b[0;34m.\u001b[0m\u001b[0mmetrics\u001b[0m\u001b[0;34m[\u001b[0m\u001b[0;36m0\u001b[0m\u001b[0;34m]\u001b[0m\u001b[0;34m[\u001b[0m\u001b[0;36m0\u001b[0m\u001b[0;34m]\u001b[0m\u001b[0;34m)\u001b[0m\u001b[0;34m\u001b[0m\u001b[0;34m\u001b[0m\u001b[0m\n",
      "\u001b[0;32m~/anaconda3/envs/cuda/lib/python3.7/site-packages/fastai/train.py\u001b[0m in \u001b[0;36mfit_one_cycle\u001b[0;34m(learn, cyc_len, max_lr, moms, div_factor, pct_start, final_div, wd, callbacks, tot_epochs, start_epoch)\u001b[0m\n\u001b[1;32m     20\u001b[0m     callbacks.append(OneCycleScheduler(learn, max_lr, moms=moms, div_factor=div_factor, pct_start=pct_start,\n\u001b[1;32m     21\u001b[0m                                        final_div=final_div, tot_epochs=tot_epochs, start_epoch=start_epoch))\n\u001b[0;32m---> 22\u001b[0;31m     \u001b[0mlearn\u001b[0m\u001b[0;34m.\u001b[0m\u001b[0mfit\u001b[0m\u001b[0;34m(\u001b[0m\u001b[0mcyc_len\u001b[0m\u001b[0;34m,\u001b[0m \u001b[0mmax_lr\u001b[0m\u001b[0;34m,\u001b[0m \u001b[0mwd\u001b[0m\u001b[0;34m=\u001b[0m\u001b[0mwd\u001b[0m\u001b[0;34m,\u001b[0m \u001b[0mcallbacks\u001b[0m\u001b[0;34m=\u001b[0m\u001b[0mcallbacks\u001b[0m\u001b[0;34m)\u001b[0m\u001b[0;34m\u001b[0m\u001b[0;34m\u001b[0m\u001b[0m\n\u001b[0m\u001b[1;32m     23\u001b[0m \u001b[0;34m\u001b[0m\u001b[0m\n\u001b[1;32m     24\u001b[0m \u001b[0;32mdef\u001b[0m \u001b[0mlr_find\u001b[0m\u001b[0;34m(\u001b[0m\u001b[0mlearn\u001b[0m\u001b[0;34m:\u001b[0m\u001b[0mLearner\u001b[0m\u001b[0;34m,\u001b[0m \u001b[0mstart_lr\u001b[0m\u001b[0;34m:\u001b[0m\u001b[0mFloats\u001b[0m\u001b[0;34m=\u001b[0m\u001b[0;36m1e-7\u001b[0m\u001b[0;34m,\u001b[0m \u001b[0mend_lr\u001b[0m\u001b[0;34m:\u001b[0m\u001b[0mFloats\u001b[0m\u001b[0;34m=\u001b[0m\u001b[0;36m10\u001b[0m\u001b[0;34m,\u001b[0m \u001b[0mnum_it\u001b[0m\u001b[0;34m:\u001b[0m\u001b[0mint\u001b[0m\u001b[0;34m=\u001b[0m\u001b[0;36m100\u001b[0m\u001b[0;34m,\u001b[0m \u001b[0mstop_div\u001b[0m\u001b[0;34m:\u001b[0m\u001b[0mbool\u001b[0m\u001b[0;34m=\u001b[0m\u001b[0;32mTrue\u001b[0m\u001b[0;34m,\u001b[0m \u001b[0mwd\u001b[0m\u001b[0;34m:\u001b[0m\u001b[0mfloat\u001b[0m\u001b[0;34m=\u001b[0m\u001b[0;32mNone\u001b[0m\u001b[0;34m)\u001b[0m\u001b[0;34m:\u001b[0m\u001b[0;34m\u001b[0m\u001b[0;34m\u001b[0m\u001b[0m\n",
      "\u001b[0;32m~/anaconda3/envs/cuda/lib/python3.7/site-packages/fastai/basic_train.py\u001b[0m in \u001b[0;36mfit\u001b[0;34m(self, epochs, lr, wd, callbacks)\u001b[0m\n\u001b[1;32m    191\u001b[0m         \u001b[0;32mif\u001b[0m \u001b[0mwd\u001b[0m \u001b[0;32mis\u001b[0m \u001b[0;32mNone\u001b[0m\u001b[0;34m:\u001b[0m \u001b[0mwd\u001b[0m \u001b[0;34m=\u001b[0m \u001b[0mself\u001b[0m\u001b[0;34m.\u001b[0m\u001b[0mwd\u001b[0m\u001b[0;34m\u001b[0m\u001b[0;34m\u001b[0m\u001b[0m\n\u001b[1;32m    192\u001b[0m         \u001b[0;32mif\u001b[0m \u001b[0;32mnot\u001b[0m \u001b[0mgetattr\u001b[0m\u001b[0;34m(\u001b[0m\u001b[0mself\u001b[0m\u001b[0;34m,\u001b[0m \u001b[0;34m'opt'\u001b[0m\u001b[0;34m,\u001b[0m \u001b[0;32mFalse\u001b[0m\u001b[0;34m)\u001b[0m\u001b[0;34m:\u001b[0m \u001b[0mself\u001b[0m\u001b[0;34m.\u001b[0m\u001b[0mcreate_opt\u001b[0m\u001b[0;34m(\u001b[0m\u001b[0mlr\u001b[0m\u001b[0;34m,\u001b[0m \u001b[0mwd\u001b[0m\u001b[0;34m)\u001b[0m\u001b[0;34m\u001b[0m\u001b[0;34m\u001b[0m\u001b[0m\n\u001b[0;32m--> 193\u001b[0;31m         \u001b[0;32melse\u001b[0m\u001b[0;34m:\u001b[0m \u001b[0mself\u001b[0m\u001b[0;34m.\u001b[0m\u001b[0mopt\u001b[0m\u001b[0;34m.\u001b[0m\u001b[0mlr\u001b[0m\u001b[0;34m,\u001b[0m\u001b[0mself\u001b[0m\u001b[0;34m.\u001b[0m\u001b[0mopt\u001b[0m\u001b[0;34m.\u001b[0m\u001b[0mwd\u001b[0m \u001b[0;34m=\u001b[0m \u001b[0mlr\u001b[0m\u001b[0;34m,\u001b[0m\u001b[0mwd\u001b[0m\u001b[0;34m\u001b[0m\u001b[0;34m\u001b[0m\u001b[0m\n\u001b[0m\u001b[1;32m    194\u001b[0m         \u001b[0mcallbacks\u001b[0m \u001b[0;34m=\u001b[0m \u001b[0;34m[\u001b[0m\u001b[0mcb\u001b[0m\u001b[0;34m(\u001b[0m\u001b[0mself\u001b[0m\u001b[0;34m)\u001b[0m \u001b[0;32mfor\u001b[0m \u001b[0mcb\u001b[0m \u001b[0;32min\u001b[0m \u001b[0mself\u001b[0m\u001b[0;34m.\u001b[0m\u001b[0mcallback_fns\u001b[0m\u001b[0;34m]\u001b[0m \u001b[0;34m+\u001b[0m \u001b[0mlistify\u001b[0m\u001b[0;34m(\u001b[0m\u001b[0mcallbacks\u001b[0m\u001b[0;34m)\u001b[0m\u001b[0;34m\u001b[0m\u001b[0;34m\u001b[0m\u001b[0m\n\u001b[1;32m    195\u001b[0m         \u001b[0;32mif\u001b[0m \u001b[0mdefaults\u001b[0m\u001b[0;34m.\u001b[0m\u001b[0mextra_callbacks\u001b[0m \u001b[0;32mis\u001b[0m \u001b[0;32mnot\u001b[0m \u001b[0;32mNone\u001b[0m\u001b[0;34m:\u001b[0m \u001b[0mcallbacks\u001b[0m \u001b[0;34m+=\u001b[0m \u001b[0mdefaults\u001b[0m\u001b[0;34m.\u001b[0m\u001b[0mextra_callbacks\u001b[0m\u001b[0;34m\u001b[0m\u001b[0;34m\u001b[0m\u001b[0m\n",
      "\u001b[0;32m~/anaconda3/envs/cuda/lib/python3.7/site-packages/fastai/callback.py\u001b[0m in \u001b[0;36mlr\u001b[0;34m(self, val)\u001b[0m\n\u001b[1;32m     78\u001b[0m     \u001b[0;34m@\u001b[0m\u001b[0mlr\u001b[0m\u001b[0;34m.\u001b[0m\u001b[0msetter\u001b[0m\u001b[0;34m\u001b[0m\u001b[0;34m\u001b[0m\u001b[0m\n\u001b[1;32m     79\u001b[0m     \u001b[0;32mdef\u001b[0m \u001b[0mlr\u001b[0m\u001b[0;34m(\u001b[0m\u001b[0mself\u001b[0m\u001b[0;34m,\u001b[0m \u001b[0mval\u001b[0m\u001b[0;34m:\u001b[0m\u001b[0mfloat\u001b[0m\u001b[0;34m)\u001b[0m\u001b[0;34m->\u001b[0m\u001b[0;32mNone\u001b[0m\u001b[0;34m:\u001b[0m\u001b[0;34m\u001b[0m\u001b[0;34m\u001b[0m\u001b[0m\n\u001b[0;32m---> 80\u001b[0;31m         \u001b[0mself\u001b[0m\u001b[0;34m.\u001b[0m\u001b[0m_lr\u001b[0m \u001b[0;34m=\u001b[0m \u001b[0mself\u001b[0m\u001b[0;34m.\u001b[0m\u001b[0mset_val\u001b[0m\u001b[0;34m(\u001b[0m\u001b[0;34m'lr'\u001b[0m\u001b[0;34m,\u001b[0m \u001b[0mlistify\u001b[0m\u001b[0;34m(\u001b[0m\u001b[0mval\u001b[0m\u001b[0;34m,\u001b[0m \u001b[0mself\u001b[0m\u001b[0;34m.\u001b[0m\u001b[0m_lr\u001b[0m\u001b[0;34m)\u001b[0m\u001b[0;34m)\u001b[0m\u001b[0;34m\u001b[0m\u001b[0;34m\u001b[0m\u001b[0m\n\u001b[0m\u001b[1;32m     81\u001b[0m \u001b[0;34m\u001b[0m\u001b[0m\n\u001b[1;32m     82\u001b[0m     \u001b[0;34m@\u001b[0m\u001b[0mproperty\u001b[0m\u001b[0;34m\u001b[0m\u001b[0;34m\u001b[0m\u001b[0m\n",
      "\u001b[0;32m~/anaconda3/envs/cuda/lib/python3.7/site-packages/fastai/core.py\u001b[0m in \u001b[0;36mlistify\u001b[0;34m(p, q)\u001b[0m\n\u001b[1;32m    112\u001b[0m     \u001b[0mn\u001b[0m \u001b[0;34m=\u001b[0m \u001b[0mq\u001b[0m \u001b[0;32mif\u001b[0m \u001b[0mtype\u001b[0m\u001b[0;34m(\u001b[0m\u001b[0mq\u001b[0m\u001b[0;34m)\u001b[0m\u001b[0;34m==\u001b[0m\u001b[0mint\u001b[0m \u001b[0;32melse\u001b[0m \u001b[0mlen\u001b[0m\u001b[0;34m(\u001b[0m\u001b[0mp\u001b[0m\u001b[0;34m)\u001b[0m \u001b[0;32mif\u001b[0m \u001b[0mq\u001b[0m \u001b[0;32mis\u001b[0m \u001b[0;32mNone\u001b[0m \u001b[0;32melse\u001b[0m \u001b[0mlen\u001b[0m\u001b[0;34m(\u001b[0m\u001b[0mq\u001b[0m\u001b[0;34m)\u001b[0m\u001b[0;34m\u001b[0m\u001b[0;34m\u001b[0m\u001b[0m\n\u001b[1;32m    113\u001b[0m     \u001b[0;32mif\u001b[0m \u001b[0mlen\u001b[0m\u001b[0;34m(\u001b[0m\u001b[0mp\u001b[0m\u001b[0;34m)\u001b[0m\u001b[0;34m==\u001b[0m\u001b[0;36m1\u001b[0m\u001b[0;34m:\u001b[0m \u001b[0mp\u001b[0m \u001b[0;34m=\u001b[0m \u001b[0mp\u001b[0m \u001b[0;34m*\u001b[0m \u001b[0mn\u001b[0m\u001b[0;34m\u001b[0m\u001b[0;34m\u001b[0m\u001b[0m\n\u001b[0;32m--> 114\u001b[0;31m     \u001b[0;32massert\u001b[0m \u001b[0mlen\u001b[0m\u001b[0;34m(\u001b[0m\u001b[0mp\u001b[0m\u001b[0;34m)\u001b[0m\u001b[0;34m==\u001b[0m\u001b[0mn\u001b[0m\u001b[0;34m,\u001b[0m \u001b[0;34mf'List len mismatch ({len(p)} vs {n})'\u001b[0m\u001b[0;34m\u001b[0m\u001b[0;34m\u001b[0m\u001b[0m\n\u001b[0m\u001b[1;32m    115\u001b[0m     \u001b[0;32mreturn\u001b[0m \u001b[0mlist\u001b[0m\u001b[0;34m(\u001b[0m\u001b[0mp\u001b[0m\u001b[0;34m)\u001b[0m\u001b[0;34m\u001b[0m\u001b[0;34m\u001b[0m\u001b[0m\n\u001b[1;32m    116\u001b[0m \u001b[0;34m\u001b[0m\u001b[0m\n",
      "\u001b[0;31mAssertionError\u001b[0m: List len mismatch (16 vs 15)"
     ]
    }
   ],
   "source": [
    "lrs =[]\n",
    "lrms = [2.6, 1.6, 1] # 2.6,\n",
    "lrs.append(chtw)\n",
    "lrs.append(chtw2)\n",
    "for lrm in lrms:\n",
    "    div = (lrm**num_layers)\n",
    "    lrs.append((learn.lr_range(slice(5e-4/div, 5e-4)),lrm))\n",
    "    if lrm!= 1: lrs.append((learn.lr_range(slice(lr0/div, lr0)),lrm))\n",
    "    lrs.append((learn.lr_range(slice(3e-4/div, 3e-4)),lrm))\n",
    "    lrs.append((learn.lr_range(slice(1e-4/div, 1e-4)),lrm))\n",
    "stage3 = test_lrs(name+'x6', lrs)"
   ]
  },
  {
   "cell_type": "code",
   "execution_count": null,
   "metadata": {},
   "outputs": [],
   "source": [
    "df = pd.DataFrame(stage3).sort_values(by=['f1', 'val'],ascending=[False, True])\n",
    "df.to_csv(csvn, mode='a')\n",
    "df"
   ]
  },
  {
   "cell_type": "code",
   "execution_count": 23,
   "metadata": {},
   "outputs": [
    {
     "data": {
      "text/html": [
       "Total time: 08:51 <p><table border=\"1\" class=\"dataframe\">\n",
       "  <thead>\n",
       "    <tr style=\"text-align: left;\">\n",
       "      <th>epoch</th>\n",
       "      <th>train_loss</th>\n",
       "      <th>valid_loss</th>\n",
       "      <th>Total F1</th>\n",
       "      <th>time</th>\n",
       "    </tr>\n",
       "  </thead>\n",
       "  <tbody>\n",
       "    <tr>\n",
       "      <td>0</td>\n",
       "      <td>0.042702</td>\n",
       "      <td>0.074312</td>\n",
       "      <td>0.855313</td>\n",
       "      <td>08:51</td>\n",
       "    </tr>\n",
       "  </tbody>\n",
       "</table>"
      ],
      "text/plain": [
       "<IPython.core.display.HTML object>"
      ]
     },
     "metadata": {},
     "output_type": "display_data"
    }
   ],
   "source": [
    "learn.load(name+'x6')    \n",
    "learn.fit_one_cycle(1, df.iloc[0]['lrs'], moms=(0.8, 0.7))"
   ]
  },
  {
   "cell_type": "code",
   "execution_count": 25,
   "metadata": {},
   "outputs": [],
   "source": [
    "learn.freeze_to(-12)\n",
    "learn.save(name+'x12')\n",
    "learn.lr_find()\n",
    "learn.recorder.plot()"
   ]
  },
  {
   "cell_type": "code",
   "execution_count": null,
   "metadata": {},
   "outputs": [],
   "source": [
    "lrs =[]\n",
    "lrms = [2.6, 1.6, 1] # 2.6,\n",
    "lrs.append(chtw)\n",
    "lrs.append(chtw2)\n",
    "for lrm in lrms:\n",
    "    div = (lrm**num_layers)\n",
    "    if lrm!= 1: lrs.append((learn.lr_range(slice(lr0/div, lr0)),lrm))\n",
    "    lrs.append((learn.lr_range(slice(3e-4/div, 3e-4)),lrm))\n",
    "    lrs.append((learn.lr_range(slice(1e-4/div, 1e-4)),lrm))\n",
    "    lrs.append((learn.lr_range(slice(5e-5/div, 5e-5)),lrm))"
   ]
  },
  {
   "cell_type": "code",
   "execution_count": null,
   "metadata": {},
   "outputs": [],
   "source": [
    "stage12 = test_lrs(name+'x12', lrs)"
   ]
  },
  {
   "cell_type": "code",
   "execution_count": null,
   "metadata": {},
   "outputs": [],
   "source": [
    "df = pd.DataFrame(stage12).sort_values(by=['f1', 'val'],ascending=[False, True])\n",
    "df.to_csv(csvn, mode='a')\n",
    "df"
   ]
  },
  {
   "cell_type": "code",
   "execution_count": null,
   "metadata": {},
   "outputs": [],
   "source": []
  },
  {
   "cell_type": "code",
   "execution_count": null,
   "metadata": {},
   "outputs": [],
   "source": [
    "learn.load(name+'x12')\n",
    "learn.fit_one_cycle(1, df.iloc[0]['lrs'], moms=(0.8, 0.7))\n",
    "learn.recorder.plot_losses()"
   ]
  },
  {
   "cell_type": "code",
   "execution_count": null,
   "metadata": {},
   "outputs": [],
   "source": [
    "learn.unfreeze()\n",
    "learn.save(name+'x15')\n",
    "learn.lr_find()\n",
    "learn.recorder.plot()"
   ]
  },
  {
   "cell_type": "code",
   "execution_count": null,
   "metadata": {},
   "outputs": [],
   "source": []
  },
  {
   "cell_type": "code",
   "execution_count": null,
   "metadata": {},
   "outputs": [],
   "source": [
    "lrs =[]\n",
    "lrms = [2.6, 1.6, 1]#2.6, \n",
    "lrs.append(chtw)\n",
    "lrs.append(chtw2)\n",
    "for lrm in lrms:\n",
    "    div = (lrm**num_layers)\n",
    "    if lrm!= 1: lrs.append((learn.lr_range(slice(lr0/div, lr0)),lrm))\n",
    "    lrs.append((learn.lr_range(slice(2e-5/div, 2e-5)),lrm))\n",
    "    lrs.append((learn.lr_range(slice(3e-5/div, 3e-5)),lrm))\n",
    "    lrs.append((learn.lr_range(slice(5e-5/div, 5e-5)),lrm))"
   ]
  },
  {
   "cell_type": "code",
   "execution_count": null,
   "metadata": {},
   "outputs": [],
   "source": [
    "stage15 = test_lrs(name+'x15', lrs)"
   ]
  },
  {
   "cell_type": "code",
   "execution_count": null,
   "metadata": {},
   "outputs": [],
   "source": [
    "df = pd.DataFrame(stage15).sort_values(by=['f1', 'val'],ascending=[False, True])\n",
    "df.to_csv(csvn, mode='a')\n",
    "df"
   ]
  },
  {
   "cell_type": "code",
   "execution_count": null,
   "metadata": {
    "scrolled": true
   },
   "outputs": [],
   "source": [
    "learn.load(name+'x15')\n",
    "learn.fit_one_cycle(1, df.iloc[0]['lrs'], moms=(0.8, 0.7))\n",
    "learn.recorder.plot_losses()"
   ]
  },
  {
   "cell_type": "code",
   "execution_count": null,
   "metadata": {
    "scrolled": true
   },
   "outputs": [],
   "source": [
    "learn.recorder.metrics\n",
    "learn.recorder.val_losses\n",
    "learn.recorder.losses"
   ]
  },
  {
   "cell_type": "code",
   "execution_count": null,
   "metadata": {},
   "outputs": [],
   "source": []
  },
  {
   "cell_type": "code",
   "execution_count": 29,
   "metadata": {},
   "outputs": [
    {
     "data": {
      "text/plain": [
       "[0.0646086, 0.8442817565242401]"
      ]
     },
     "execution_count": 29,
     "metadata": {},
     "output_type": "execute_result"
    }
   ],
   "source": [
    "met = learn.validate(test_dl, metrics=metrics)\n",
    "met"
   ]
  },
  {
   "cell_type": "code",
   "execution_count": null,
   "metadata": {},
   "outputs": [],
   "source": [
    "df = pd.DataFrame(met)\n",
    "df.to_csv(csvn, mode='a')\n",
    "df"
   ]
  },
  {
   "cell_type": "code",
   "execution_count": 31,
   "metadata": {},
   "outputs": [
    {
     "data": {
      "text/plain": [
       "[0.06670339, 0.8419911281348179]"
      ]
     },
     "execution_count": 31,
     "metadata": {},
     "output_type": "execute_result"
    }
   ],
   "source": [
    "lrm = 1.6\n",
    "div = (lrm**num_layers)\n",
    "lr = learn.lr_range(slice(5e-5/div, 5e-5))\n",
    "learn.fit_one_cycle(1, lr, moms=(0.8, 0.7))\n",
    "met = learn.validate(test_dl, metrics=metrics)\n",
    "met"
   ]
  },
  {
   "cell_type": "code",
   "execution_count": null,
   "metadata": {},
   "outputs": [],
   "source": []
  }
 ],
 "metadata": {
  "kernelspec": {
   "display_name": "cuda",
   "language": "python",
   "name": "cuda"
  },
  "language_info": {
   "codemirror_mode": {
    "name": "ipython",
    "version": 3
   },
   "file_extension": ".py",
   "mimetype": "text/x-python",
   "name": "python",
   "nbconvert_exporter": "python",
   "pygments_lexer": "ipython3",
   "version": "3.7.3"
  }
 },
 "nbformat": 4,
 "nbformat_minor": 2
}
