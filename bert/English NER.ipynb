{
 "cells": [
  {
   "cell_type": "markdown",
   "metadata": {},
   "source": [
    "%reload_ext autoreload\n",
    "%autoreload 2\n",
    "%matplotlib inline"
   ]
  },
  {
   "cell_type": "code",
   "execution_count": 57,
   "metadata": {},
   "outputs": [
    {
     "name": "stdout",
     "output_type": "stream",
     "text": [
      "/home/abaumann/anaconda3/envs/cuda/bin/jupyter\r\n"
     ]
    }
   ],
   "source": [
    "! which jupyter"
   ]
  },
  {
   "cell_type": "code",
   "execution_count": 58,
   "metadata": {},
   "outputs": [],
   "source": [
    "import logging\n",
    "import random\n",
    "from functools import partial\n",
    "from pathlib import Path\n",
    "\n",
    "import numpy as np\n",
    "\n",
    "import fire\n",
    "import torch\n",
    "from fastai.basic_data import DataBunch\n",
    "from fastai.basic_train import Learner\n",
    "from fastai.metrics import fbeta\n",
    "from fastai.train import to_fp16\n",
    "from learner import (OneHotCallBack, conll_f1, create_fp16_cb,\n",
    "                     ner_loss_func, Conll_F1)\n",
    "from ner_data import NerDataset, pad\n",
    "from optimizer import BertAdam\n",
    "from pytorch_pretrained_bert import BertForTokenClassification\n",
    "from torch.utils.data import DataLoader\n",
    "from fastai.torch_core import flatten_model"
   ]
  },
  {
   "cell_type": "code",
   "execution_count": 59,
   "metadata": {},
   "outputs": [],
   "source": [
    "lang='deu'"
   ]
  },
  {
   "cell_type": "code",
   "execution_count": 60,
   "metadata": {},
   "outputs": [],
   "source": [
    "log_dir:str='logs'\n",
    "batch_size:int=32\n",
    "lr:float=5e-5\n",
    "epochs:int=1\n",
    "trainset:str='data/conll-2003/'\n",
    "devset:str='data/conll-2003/'\n",
    "testset:str='data/conll-2003/'\n",
    "max_seq_len:int=128\n",
    "do_lower_case:bool=False\n",
    "warmup_proportion:float=0.1\n",
    "grad_acc_steps:int=1\n",
    "rand_seed:int=None\n",
    "fp16:bool=False\n",
    "loss_scale:float=None\n",
    "ds_size:int=None\n",
    "data_bunch_path:str='data/conll-2003/db'\n",
    "freez:bool=False\n",
    "one_cycle:bool=False\n",
    "discr:bool=False\n",
    "tuned_learner:str=None\n",
    "do_train:str=False\n",
    "do_eval:str=False\n",
    "save:bool=False"
   ]
  },
  {
   "cell_type": "code",
   "execution_count": 61,
   "metadata": {},
   "outputs": [],
   "source": [
    "bert_model = 'bert-base-cased' if lang=='eng' else 'bert-base-multilingual-cased'\n"
   ]
  },
  {
   "cell_type": "code",
   "execution_count": 62,
   "metadata": {},
   "outputs": [],
   "source": [
    "trainset += lang + '/train.txt'\n",
    "devset += lang + '/dev.txt'\n",
    "testset += lang + '/test.txt'"
   ]
  },
  {
   "cell_type": "code",
   "execution_count": 63,
   "metadata": {},
   "outputs": [],
   "source": [
    "if grad_acc_steps < 1:\n",
    "    raise ValueError(f\"\"\"Invalid grad_acc_steps parameter:\n",
    "                     {grad_acc_steps}, should be >= 1\"\"\")\n",
    "\n",
    "# TODO proper training with grad accum step??\n",
    "batch_size //= grad_acc_steps"
   ]
  },
  {
   "cell_type": "code",
   "execution_count": 64,
   "metadata": {},
   "outputs": [
    {
     "name": "stdout",
     "output_type": "stream",
     "text": [
      "\n",
      "data/conll-2003/deu/train.txt\n",
      "lines 12705 sents 12705\n",
      "Truncated examples: 0.0% => 0/12705 \n",
      "\n",
      "data/conll-2003/deu/dev.txt\n",
      "lines 3068 sents 3068\n",
      "Truncated examples: 0.0% => 0/3068 \n",
      "\n",
      "data/conll-2003/deu/test.txt\n",
      "lines 3160 sents 3160\n",
      "Truncated examples: 0.0% => 0/3160 \n"
     ]
    }
   ],
   "source": [
    "train_dl = DataLoader(\n",
    "    dataset=NerDataset(trainset, bert_model, max_seq_len=max_seq_len, ds_size=ds_size),\n",
    "    batch_size=batch_size,\n",
    "    shuffle=True,\n",
    "    collate_fn=pad\n",
    ")\n",
    "\n",
    "dev_dl = DataLoader(\n",
    "    dataset=NerDataset(devset, bert_model, max_seq_len=max_seq_len, ds_size=ds_size),\n",
    "    batch_size=batch_size,\n",
    "    shuffle=False,\n",
    "    collate_fn=pad\n",
    ")\n",
    "\n",
    "test_dl = DataLoader(\n",
    "    dataset=NerDataset(testset, bert_model, max_seq_len=max_seq_len, ds_size=ds_size),\n",
    "    batch_size=batch_size,\n",
    "    shuffle=False,\n",
    "    collate_fn=pad\n",
    ")\n",
    "\n",
    "data = DataBunch(\n",
    "    train_dl= train_dl,\n",
    "    valid_dl= dev_dl,\n",
    "    test_dl = test_dl,\n",
    "    collate_fn=pad,\n",
    "    path = Path(data_bunch_path)\n",
    ")"
   ]
  },
  {
   "cell_type": "code",
   "execution_count": 65,
   "metadata": {},
   "outputs": [
    {
     "data": {
      "text/plain": [
       "32"
      ]
     },
     "execution_count": 65,
     "metadata": {},
     "output_type": "execute_result"
    }
   ],
   "source": [
    "batch_size"
   ]
  },
  {
   "cell_type": "code",
   "execution_count": 66,
   "metadata": {},
   "outputs": [],
   "source": [
    "def bert_layer_list(model):\n",
    "    ms = torch.nn.ModuleList()\n",
    "\n",
    "    flm = flatten_model(model)\n",
    "    # embedding = [0:5] layer\n",
    "    ms.append(torch.nn.ModuleList(flm[0:5]))\n",
    "    # encoder (12 layers) = [5:16] [16:27] ... [126:136]\n",
    "    for i in range(5, 137, 11):\n",
    "        ms.append(torch.nn.ModuleList(flm[i: i+11]))\n",
    "    # pooling layer = [137:139]\n",
    "    ms.append(torch.nn.ModuleList(flm[-4:-2]))\n",
    "    # head = [-2:]\n",
    "    ms.append(torch.nn.ModuleList(flm[-2:]))\n",
    "    return ms"
   ]
  },
  {
   "cell_type": "code",
   "execution_count": null,
   "metadata": {},
   "outputs": [],
   "source": []
  },
  {
   "cell_type": "code",
   "execution_count": null,
   "metadata": {},
   "outputs": [],
   "source": []
  },
  {
   "cell_type": "code",
   "execution_count": 67,
   "metadata": {},
   "outputs": [],
   "source": [
    "\n",
    "model = BertForTokenClassification.from_pretrained(bert_model, num_labels=10, cache_dir='bertm')\n",
    "model = torch.nn.DataParallel(model)\n",
    "optim = BertAdam\n",
    "\n",
    "train_opt_steps = int(len(train_dl.dataset) / batch_size / grad_acc_steps) * epochs\n",
    "f1 = partial(fbeta, beta=1, sigmoid=False)\n",
    "loss_fun = ner_loss_func\n",
    "fp16_cb_fns = partial(create_fp16_cb,\n",
    "                      train_opt_steps = train_opt_steps,\n",
    "                      gradient_accumulation_steps = grad_acc_steps,\n",
    "                      warmup_proportion = warmup_proportion,\n",
    "                      fp16 = fp16)"
   ]
  },
  {
   "cell_type": "code",
   "execution_count": 68,
   "metadata": {},
   "outputs": [],
   "source": [
    "metrics = [conll_f1, Conll_F1()]"
   ]
  },
  {
   "cell_type": "code",
   "execution_count": 69,
   "metadata": {},
   "outputs": [],
   "source": [
    "if fp16:\n",
    "    try:\n",
    "        from apex.optimizers import FP16_Optimizer\n",
    "        from apex.optimizers import FusedAdam\n",
    "    except ImportError:\n",
    "        raise ImportError(\"Please install apex from https://www.github.com/nvidia/apex\"\n",
    "                          \"to use distributed and fp16 training.\")\n",
    "    optim, dynamic=(FusedAdam, True) if not loss_scale else (FP16_Optimizer,False)\n",
    "\n",
    "learn = Learner(data, model, optim,\n",
    "                    loss_func=loss_fun,\n",
    "                    metrics=metrics,\n",
    "                    #true_wd=False,\n",
    "                    #callback_fns=fp16_cb_fns,\n",
    "                    layer_groups= bert_layer_list(model),\n",
    "                    path='learn',\n",
    "                    )\n",
    "\n",
    "if fp16: learn.to_fp16(loss_scale=loss_scale, dynamic=dynamic)\n"
   ]
  },
  {
   "cell_type": "code",
   "execution_count": 70,
   "metadata": {},
   "outputs": [
    {
     "data": {
      "text/plain": [
       "32"
      ]
     },
     "execution_count": 70,
     "metadata": {},
     "output_type": "execute_result"
    }
   ],
   "source": [
    "batch_size"
   ]
  },
  {
   "cell_type": "code",
   "execution_count": 71,
   "metadata": {},
   "outputs": [
    {
     "data": {
      "text/plain": [
       "'deu'"
      ]
     },
     "execution_count": 71,
     "metadata": {},
     "output_type": "execute_result"
    }
   ],
   "source": [
    "lang"
   ]
  },
  {
   "cell_type": "code",
   "execution_count": 72,
   "metadata": {},
   "outputs": [],
   "source": [
    "learn.freeze()\n",
    "##learn.lr_find()\n",
    "##learn.recorder.plot()\n"
   ]
  },
  {
   "cell_type": "code",
   "execution_count": 74,
   "metadata": {},
   "outputs": [
    {
     "data": {
      "text/html": [
       "Total time: 04:48 <p><table border=\"1\" class=\"dataframe\">\n",
       "  <thead>\n",
       "    <tr style=\"text-align: left;\">\n",
       "      <th>epoch</th>\n",
       "      <th>train_loss</th>\n",
       "      <th>valid_loss</th>\n",
       "      <th>conll_f1</th>\n",
       "      <th>Total F1</th>\n",
       "      <th>time</th>\n",
       "    </tr>\n",
       "  </thead>\n",
       "  <tbody>\n",
       "    <tr>\n",
       "      <td>0</td>\n",
       "      <td>0.311295</td>\n",
       "      <td>0.448011</td>\n",
       "      <td>0.001429</td>\n",
       "      <td>0.001502</td>\n",
       "      <td>04:48</td>\n",
       "    </tr>\n",
       "  </tbody>\n",
       "</table>"
      ],
      "text/plain": [
       "<IPython.core.display.HTML object>"
      ]
     },
     "metadata": {},
     "output_type": "display_data"
    }
   ],
   "source": [
    "learn.fit_one_cycle(1, 5e-5, moms=(0.8, 0.7))"
   ]
  },
  {
   "cell_type": "code",
   "execution_count": null,
   "metadata": {},
   "outputs": [],
   "source": []
  },
  {
   "cell_type": "code",
   "execution_count": null,
   "metadata": {},
   "outputs": [],
   "source": [
    "learn.freeze_to(-5)\n",
    "learn.lr_find()\n",
    "learn.recorder.plot()"
   ]
  },
  {
   "cell_type": "code",
   "execution_count": null,
   "metadata": {},
   "outputs": [],
   "source": []
  },
  {
   "cell_type": "code",
   "execution_count": null,
   "metadata": {},
   "outputs": [],
   "source": [
    "stop"
   ]
  },
  {
   "cell_type": "code",
   "execution_count": null,
   "metadata": {},
   "outputs": [],
   "source": [
    "learn.fit_one_cylce(1, lrs, mom=(0.8, 0.7))"
   ]
  },
  {
   "cell_type": "code",
   "execution_count": null,
   "metadata": {},
   "outputs": [],
   "source": []
  },
  {
   "cell_type": "code",
   "execution_count": null,
   "metadata": {},
   "outputs": [],
   "source": []
  },
  {
   "cell_type": "code",
   "execution_count": 28,
   "metadata": {},
   "outputs": [
    {
     "data": {
      "text/plain": [
       "PosixPath('data/conll-2003/db/models/1_model.pth')"
      ]
     },
     "execution_count": 28,
     "metadata": {},
     "output_type": "execute_result"
    }
   ],
   "source": [
    "name = \"1_model\"\n",
    "m_path = learn.save(name, return_path=True)\n",
    "m_path"
   ]
  },
  {
   "cell_type": "code",
   "execution_count": null,
   "metadata": {},
   "outputs": [
    {
     "data": {
      "text/html": [
       "\n",
       "    <div>\n",
       "        <style>\n",
       "            /* Turns off some styling */\n",
       "            progress {\n",
       "                /* gets rid of default border in Firefox and Opera. */\n",
       "                border: none;\n",
       "                /* Needs to be in here for Safari polyfill so background images work as expected. */\n",
       "                background-size: auto;\n",
       "            }\n",
       "            .progress-bar-interrupted, .progress-bar-interrupted::-webkit-progress-bar {\n",
       "                background: #F44336;\n",
       "            }\n",
       "        </style>\n",
       "      <progress value='0' class='' max='1', style='width:300px; height:20px; vertical-align: middle;'></progress>\n",
       "      0.00% [0/1 00:00<00:00]\n",
       "    </div>\n",
       "    \n",
       "<table border=\"1\" class=\"dataframe\">\n",
       "  <thead>\n",
       "    <tr style=\"text-align: left;\">\n",
       "      <th>epoch</th>\n",
       "      <th>train_loss</th>\n",
       "      <th>valid_loss</th>\n",
       "      <th>conll_f1</th>\n",
       "      <th>time</th>\n",
       "    </tr>\n",
       "  </thead>\n",
       "  <tbody>\n",
       "  </tbody>\n",
       "</table><p>\n",
       "\n",
       "    <div>\n",
       "        <style>\n",
       "            /* Turns off some styling */\n",
       "            progress {\n",
       "                /* gets rid of default border in Firefox and Opera. */\n",
       "                border: none;\n",
       "                /* Needs to be in here for Safari polyfill so background images work as expected. */\n",
       "                background-size: auto;\n",
       "            }\n",
       "            .progress-bar-interrupted, .progress-bar-interrupted::-webkit-progress-bar {\n",
       "                background: #F44336;\n",
       "            }\n",
       "        </style>\n",
       "      <progress value='378' class='' max='436', style='width:300px; height:20px; vertical-align: middle;'></progress>\n",
       "      86.70% [378/436 36:47<05:38 0.2143]\n",
       "    </div>\n",
       "    "
      ],
      "text/plain": [
       "<IPython.core.display.HTML object>"
      ]
     },
     "metadata": {},
     "output_type": "display_data"
    }
   ],
   "source": [
    "learn.fit(1, 1e-05)"
   ]
  },
  {
   "cell_type": "code",
   "execution_count": null,
   "metadata": {},
   "outputs": [],
   "source": [
    "learn.save(\"2_model\")"
   ]
  },
  {
   "cell_type": "code",
   "execution_count": null,
   "metadata": {},
   "outputs": [],
   "source": [
    "learn.load(name)\n",
    "learn.fit(1, 3e-05)"
   ]
  },
  {
   "cell_type": "code",
   "execution_count": null,
   "metadata": {},
   "outputs": [],
   "source": []
  },
  {
   "cell_type": "code",
   "execution_count": null,
   "metadata": {},
   "outputs": [],
   "source": [
    "learn.load(name)\n",
    "learn.fit(1, 3e-04)"
   ]
  },
  {
   "cell_type": "code",
   "execution_count": null,
   "metadata": {},
   "outputs": [],
   "source": []
  }
 ],
 "metadata": {
  "kernelspec": {
   "display_name": "cuda",
   "language": "python",
   "name": "cuda"
  },
  "language_info": {
   "codemirror_mode": {
    "name": "ipython",
    "version": 3
   },
   "file_extension": ".py",
   "mimetype": "text/x-python",
   "name": "python",
   "nbconvert_exporter": "python",
   "pygments_lexer": "ipython3",
   "version": "3.7.3"
  }
 },
 "nbformat": 4,
 "nbformat_minor": 2
}
