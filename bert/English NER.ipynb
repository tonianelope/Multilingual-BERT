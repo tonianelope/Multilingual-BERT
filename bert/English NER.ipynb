{
 "cells": [
  {
   "cell_type": "code",
   "execution_count": 1,
   "metadata": {},
   "outputs": [],
   "source": [
    "%reload_ext autoreload\n",
    "%autoreload 2\n",
    "%matplotlib inline"
   ]
  },
  {
   "cell_type": "code",
   "execution_count": 2,
   "metadata": {},
   "outputs": [
    {
     "name": "stdout",
     "output_type": "stream",
     "text": [
      "/anaconda3/envs/bert/bin/jupyter\r\n"
     ]
    }
   ],
   "source": [
    "! which jupyter"
   ]
  },
  {
   "cell_type": "code",
   "execution_count": 4,
   "metadata": {},
   "outputs": [],
   "source": [
    "import logging\n",
    "import random\n",
    "from functools import partial\n",
    "from pathlib import Path\n",
    "\n",
    "import numpy as np\n",
    "\n",
    "import fire\n",
    "import torch\n",
    "from fastai.basic_data import DataBunch\n",
    "from fastai.basic_train import Learner\n",
    "from fastai.metrics import fbeta\n",
    "from fastai.train import to_fp16\n",
    "from learner import (BertForNER, OneHotCallBack, conll_f1, create_fp16_cb,\n",
    "                     ner_loss_func)\n",
    "from ner_data import NerDataset, pad\n",
    "from optimizer import BertAdam\n",
    "from pytorch_pretrained_bert import BertModel\n",
    "from pytorch_pretrained_bert.tokenization import BertTokenizer\n",
    "from torch.utils.data import DataLoader"
   ]
  },
  {
   "cell_type": "code",
   "execution_count": null,
   "metadata": {},
   "outputs": [],
   "source": []
  },
  {
   "cell_type": "code",
   "execution_count": 19,
   "metadata": {},
   "outputs": [],
   "source": [
    "bert_model:str='bert-base-uncased'\n",
    "batch_size:int=16\n",
    "lr:float=0.0001\n",
    "epochs:int=3\n",
    "trainset:str='data/conll-2003/eng/train.txt'\n",
    "devset:str='data/conll-2003/eng/dev.txt'\n",
    "testset:str='data/conll-2003/eng/test.txt'\n",
    "max_seq_length:int=512\n",
    "do_lower_case:bool=False\n",
    "warmup_proportion:float=0.1\n",
    "grad_acc_steps:int=1\n",
    "rand_seed:int=42\n",
    "fp16:bool=False\n",
    "loss_scale:float=None\n",
    "cross_ent:bool=True\n",
    "ds_size:int=None\n",
    "data_bunch_path:str='data/conll-2003/db'"
   ]
  },
  {
   "cell_type": "code",
   "execution_count": null,
   "metadata": {},
   "outputs": [],
   "source": []
  },
  {
   "cell_type": "code",
   "execution_count": 20,
   "metadata": {},
   "outputs": [],
   "source": [
    "random.seed(rand_seed)\n",
    "np.random.seed(rand_seed)\n",
    "torch.manual_seed(rand_seed)\n",
    "\n",
    "if grad_acc_steps < 1:\n",
    "    raise ValueError(f\"\"\"Invalid grad_acc_steps parameter:\n",
    "                     {grad_acc_steps}, should be >= 1\"\"\")\n",
    "\n",
    "tokenizer = BertTokenizer.from_pretrained(bert_model, do_lower_case=do_lower_case)\n",
    "# TODO proper training with grad accum step??\n",
    "batch_size //= grad_acc_steps"
   ]
  },
  {
   "cell_type": "code",
   "execution_count": 21,
   "metadata": {},
   "outputs": [],
   "source": [
    "train_dl = DataLoader(\n",
    "    dataset=NerDataset(trainset, tokenizer=tokenizer, ds_size=ds_size),\n",
    "    batch_size=batch_size,\n",
    "    shuffle=True,\n",
    "    collate_fn=pad\n",
    ")\n",
    "\n",
    "dev_dl = DataLoader(\n",
    "    dataset=NerDataset(devset, tokenizer=tokenizer, ds_size=ds_size),\n",
    "    batch_size=batch_size,\n",
    "    shuffle=False,\n",
    "    collate_fn=pad\n",
    ")\n",
    "\n",
    "test_dl = DataLoader(\n",
    "    dataset=NerDataset(testset, tokenizer=tokenizer, ds_size=ds_size),\n",
    "    batch_size=batch_size,\n",
    "    shuffle=False,\n",
    "    collate_fn=pad\n",
    ")\n",
    "\n",
    "data = DataBunch(\n",
    "    train_dl= train_dl,\n",
    "    valid_dl= dev_dl,\n",
    "    test_dl = test_dl,\n",
    "    collate_fn=pad,\n",
    "    path = Path(data_bunch_path)\n",
    ")"
   ]
  },
  {
   "cell_type": "code",
   "execution_count": 22,
   "metadata": {},
   "outputs": [
    {
     "data": {
      "text/plain": [
       "16"
      ]
     },
     "execution_count": 22,
     "metadata": {},
     "output_type": "execute_result"
    }
   ],
   "source": [
    "batch_size"
   ]
  },
  {
   "cell_type": "code",
   "execution_count": null,
   "metadata": {},
   "outputs": [],
   "source": []
  },
  {
   "cell_type": "code",
   "execution_count": null,
   "metadata": {},
   "outputs": [],
   "source": []
  },
  {
   "cell_type": "code",
   "execution_count": null,
   "metadata": {},
   "outputs": [],
   "source": []
  },
  {
   "cell_type": "code",
   "execution_count": 23,
   "metadata": {},
   "outputs": [],
   "source": [
    "\n",
    "model = BertForNER.from_pretrained(bert_model)\n",
    "optim = BertAdam\n",
    "\n",
    "train_opt_steps = int(len(train_dl.dataset) / batch_size / grad_acc_steps) * epochs\n",
    "f1 = partial(fbeta, beta=1, sigmoid=False)\n",
    "loss_fun = partial(ner_loss_func, cross_ent=cross_ent)\n",
    "fp16_cb_fns = partial(create_fp16_cb,\n",
    "                      train_opt_steps = train_opt_steps,\n",
    "                      gradient_accumulation_steps = grad_acc_steps,\n",
    "                      warmup_proportion = warmup_proportion,\n",
    "                      fp16 = fp16)"
   ]
  },
  {
   "cell_type": "code",
   "execution_count": null,
   "metadata": {},
   "outputs": [],
   "source": []
  },
  {
   "cell_type": "code",
   "execution_count": 24,
   "metadata": {},
   "outputs": [],
   "source": [
    "if fp16:\n",
    "    try:\n",
    "        from apex.optimizers import FP16_Optimizer\n",
    "        from apex.optimizers import FusedAdam\n",
    "    except ImportError:\n",
    "        raise ImportError(\"Please install apex from https://www.github.com/nvidia/apex\"\n",
    "                          \"to use distributed and fp16 training.\")\n",
    "    optim, dynamic=(FusedAdam, True) if not loss_scale else (FP16_Optimizer,False)\n",
    "\n",
    "learn = Learner(data, model, optim,\n",
    "                loss_func=loss_fun,\n",
    "                metrics=[OneHotCallBack(conll_f1)],\n",
    "                callback_fns=fp16_cb_fns)\n",
    "\n",
    "if fp16: learn.to_fp16(loss_scale=loss_scale, dynamic=dynamic)\n"
   ]
  },
  {
   "cell_type": "code",
   "execution_count": 25,
   "metadata": {},
   "outputs": [],
   "source": [
    "# batchsize 16"
   ]
  },
  {
   "cell_type": "code",
   "execution_count": 26,
   "metadata": {},
   "outputs": [
    {
     "data": {
      "text/html": [],
      "text/plain": [
       "<IPython.core.display.HTML object>"
      ]
     },
     "metadata": {},
     "output_type": "display_data"
    },
    {
     "name": "stdout",
     "output_type": "stream",
     "text": [
      "LR Finder is complete, type {learner_name}.recorder.plot() to see the graph.\n"
     ]
    },
    {
     "data": {
      "image/png": "[encoded data removed]",
      "text/plain": [
       "<Figure size 432x288 with 1 Axes>"
      ]
     },
     "metadata": {
      "needs_background": "light"
     },
     "output_type": "display_data"
    }
   ],
   "source": [
    "learn.lr_find()\n",
    "learn.recorder.plot(skip_end=15)\n"
   ]
  },
  {
   "cell_type": "code",
   "execution_count": 28,
   "metadata": {},
   "outputs": [
    {
     "data": {
      "text/plain": [
       "PosixPath('data/conll-2003/db/models/1_model.pth')"
      ]
     },
     "execution_count": 28,
     "metadata": {},
     "output_type": "execute_result"
    }
   ],
   "source": [
    "name = \"1_model\"\n",
    "m_path = learn.save(name, return_path=True)\n",
    "m_path"
   ]
  },
  {
   "cell_type": "code",
   "execution_count": null,
   "metadata": {},
   "outputs": [
    {
     "data": {
      "text/html": [
       "\n",
       "    <div>\n",
       "        <style>\n",
       "            /* Turns off some styling */\n",
       "            progress {\n",
       "                /* gets rid of default border in Firefox and Opera. */\n",
       "                border: none;\n",
       "                /* Needs to be in here for Safari polyfill so background images work as expected. */\n",
       "                background-size: auto;\n",
       "            }\n",
       "            .progress-bar-interrupted, .progress-bar-interrupted::-webkit-progress-bar {\n",
       "                background: #F44336;\n",
       "            }\n",
       "        </style>\n",
       "      <progress value='0' class='' max='1', style='width:300px; height:20px; vertical-align: middle;'></progress>\n",
       "      0.00% [0/1 00:00<00:00]\n",
       "    </div>\n",
       "    \n",
       "<table border=\"1\" class=\"dataframe\">\n",
       "  <thead>\n",
       "    <tr style=\"text-align: left;\">\n",
       "      <th>epoch</th>\n",
       "      <th>train_loss</th>\n",
       "      <th>valid_loss</th>\n",
       "      <th>conll_f1</th>\n",
       "      <th>time</th>\n",
       "    </tr>\n",
       "  </thead>\n",
       "  <tbody>\n",
       "  </tbody>\n",
       "</table><p>\n",
       "\n",
       "    <div>\n",
       "        <style>\n",
       "            /* Turns off some styling */\n",
       "            progress {\n",
       "                /* gets rid of default border in Firefox and Opera. */\n",
       "                border: none;\n",
       "                /* Needs to be in here for Safari polyfill so background images work as expected. */\n",
       "                background-size: auto;\n",
       "            }\n",
       "            .progress-bar-interrupted, .progress-bar-interrupted::-webkit-progress-bar {\n",
       "                background: #F44336;\n",
       "            }\n",
       "        </style>\n",
       "      <progress value='378' class='' max='436', style='width:300px; height:20px; vertical-align: middle;'></progress>\n",
       "      86.70% [378/436 36:47<05:38 0.2143]\n",
       "    </div>\n",
       "    "
      ],
      "text/plain": [
       "<IPython.core.display.HTML object>"
      ]
     },
     "metadata": {},
     "output_type": "display_data"
    }
   ],
   "source": [
    "learn.fit(1, 1e-05)"
   ]
  },
  {
   "cell_type": "code",
   "execution_count": null,
   "metadata": {},
   "outputs": [],
   "source": [
    "learn.save(\"2_model\")"
   ]
  },
  {
   "cell_type": "code",
   "execution_count": null,
   "metadata": {},
   "outputs": [],
   "source": [
    "learn.load(name)\n",
    "learn.fit(1, 3e-05)"
   ]
  },
  {
   "cell_type": "code",
   "execution_count": null,
   "metadata": {},
   "outputs": [],
   "source": []
  },
  {
   "cell_type": "code",
   "execution_count": null,
   "metadata": {},
   "outputs": [],
   "source": [
    "learn.load(name)\n",
    "learn.fit(1, 3e-04)"
   ]
  },
  {
   "cell_type": "code",
   "execution_count": null,
   "metadata": {},
   "outputs": [],
   "source": []
  }
 ],
 "metadata": {
  "kernelspec": {
   "display_name": "Python (bert)",
   "language": "python",
   "name": "bert"
  },
  "language_info": {
   "codemirror_mode": {
    "name": "ipython",
    "version": 3
   },
   "file_extension": ".py",
   "mimetype": "text/x-python",
   "name": "python",
   "nbconvert_exporter": "python",
   "pygments_lexer": "ipython3",
   "version": "3.7.2"
  }
 },
 "nbformat": 4,
 "nbformat_minor": 2
}
